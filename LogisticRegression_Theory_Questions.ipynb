{
  "cells": [
    {
      "cell_type": "markdown",
      "metadata": {
        "id": "view-in-github",
        "colab_type": "text"
      },
      "source": [
        "<a href=\"https://colab.research.google.com/github/Ayesha765/pwAssign/blob/main/LogisticRegression_Theory_Questions.ipynb\" target=\"_parent\"><img src=\"https://colab.research.google.com/assets/colab-badge.svg\" alt=\"Open In Colab\"/></a>"
      ]
    },
    {
      "cell_type": "markdown",
      "metadata": {
        "id": "DUKqQAP_KVgm"
      },
      "source": [
        "# Logistic Regression - Theory Question Answers"
      ]
    },
    {
      "cell_type": "markdown",
      "metadata": {
        "id": "sYN2V70SKVgs"
      },
      "source": [
        "1. **What is Logistic Regression, and how does it differ from Linear Regression?**  \n",
        "\n",
        "\n",
        "   - Logistic Regression predicts the probability of categorical outcomes (usually binary: 0 or 1).  \n",
        "\n",
        "   - Linear Regression predicts continuous numerical values.  \n",
        "   \n",
        "   - Logistic Regression uses the sigmoid function to output probabilities between 0 and 1.  "
      ]
    },
    {
      "cell_type": "markdown",
      "metadata": {
        "id": "n7vwZ6O1KVgt"
      },
      "source": [
        "2. **What is the mathematical equation of Logistic Regression?**  \n",
        "\n",
        "   - The mathematical equation for Logistic Regression is: P(x) = 1 / (1 + exp(-(b0 + b1x1 + b2x2 + ... + bnxn)))*;\n",
        "\n",
        "   - where P(x) represents the predicted probability, b0 is the intercept,\n",
        "   \n",
        "   - b1, b2, ... bn are the regression coefficients for each independent variable (x1, x2, ... xn), and \"exp\" denotes the exponential function.\n",
        "   \n",
        "   - It models the log-odds of the probability of an event occurring."
      ]
    },
    {
      "cell_type": "markdown",
      "metadata": {
        "id": "FO7VPFxPKVgu"
      },
      "source": [
        "\n",
        "3. **Why do we use the Sigmoid function in Logistic Regression?**  \n",
        "\n",
        "   - It maps any real-valued input to a probability between 0 and 1.  \n",
        "\n",
        "   - Helps interpret the output as the likelihood of a binary outcome.  \n",
        "   \n",
        "   - Provides a clear decision boundary for classification tasks."
      ]
    },
    {
      "cell_type": "markdown",
      "metadata": {
        "id": "Dlvwcq-4KVgv"
      },
      "source": [
        "4. **What is the cost function of Logistic Regression?**  \n",
        "\n",
        "   - Logistic Regression uses **Binary Cross-Entropy** (Log-Loss) as the cost function.\n",
        "\n",
        "   - It measures the difference between predicted probabilities and actual outcomes.  \n",
        "\n",
        "   - Penalizes incorrect predictions more when the probability is far from the true class.  "
      ]
    },
    {
      "cell_type": "markdown",
      "metadata": {
        "id": "juXgQiI6KVgv"
      },
      "source": [
        "5. **What is Regularization in Logistic Regression? Why is it needed?**  \n",
        "\n",
        "   - Regularization adds a penalty term to the cost function to reduce overfitting.  \n",
        "\n",
        "   - It discourages large coefficient values to simplify the model.  \n",
        "   \n",
        "   - Helps improve generalization on unseen data.  "
      ]
    },
    {
      "cell_type": "markdown",
      "metadata": {
        "id": "8qbEyEtBKVgw"
      },
      "source": [
        "\n",
        "6. **Difference between Lasso, Ridge, and Elastic Net regression?**  \n",
        "\n",
        "   - **Lasso (L1):** Shrinks some coefficients to zero, enabling feature selection.  \n",
        "\n",
        "   - **Ridge (L2):** Shrinks coefficients but doesn’t eliminate them.  \n",
        "   \n",
        "   - **Elastic Net:** Combines L1 and L2 penalties, balancing regularization and feature selection.  "
      ]
    },
    {
      "cell_type": "markdown",
      "metadata": {
        "id": "7XQt0uTwKVgx"
      },
      "source": [
        "\n",
        "7. **When should we use Elastic Net instead of Lasso or Ridge?**  \n",
        "\n",
        "   - Use Elastic Net when dealing with multiple correlated features.  \n",
        "\n",
        "   - It combines feature selection (Lasso) and shrinkage (Ridge).  \n",
        "   \n",
        "   - Ideal for high-dimensional datasets with multicollinearity."
      ]
    },
    {
      "cell_type": "markdown",
      "metadata": {
        "id": "FEn_tGHcKVgy"
      },
      "source": [
        "\n",
        "8. **Impact of the regularization parameter (λ) in Logistic Regression?**  \n",
        "\n",
        "   - \\( λ \\) controls the strength of the regularization penalty.  \n",
        "\n",
        "   - A higher \\( λ \\) value reduces model complexity and prevents overfitting.  \n",
        "   \n",
        "   - A lower \\( λ \\) allows the model to fit the data more flexibly.  \n"
      ]
    },
    {
      "cell_type": "markdown",
      "metadata": {
        "id": "P2mtgDr8KVgy"
      },
      "source": [
        "9. **Key assumptions of Logistic Regression?**  \n",
        "\n",
        "   - No multicollinearity among independent variables.  \n",
        "\n",
        "   - Linear relationship between independent variables and log-odds.  \n",
        "   \n",
        "   - Independence of observations and absence of outliers."
      ]
    },
    {
      "cell_type": "markdown",
      "metadata": {
        "id": "yKDEq3kuKVgz"
      },
      "source": [
        "10. **Alternatives to Logistic Regression for classification tasks?**  \n",
        "\n",
        "    - **Decision Trees** and **Random Forests** for non-linear relationships.  \n",
        "\n",
        "    - **Support Vector Machines (SVM)** for high-dimensional data.  \n",
        "    \n",
        "    - **Neural Networks** for complex, non-linear patterns.  "
      ]
    },
    {
      "cell_type": "markdown",
      "metadata": {
        "id": "_yyQcD0QKVgz"
      },
      "source": [
        "\n",
        "11. **What are Classification Evaluation Metrics?**  \n",
        "\n",
        "    - **Accuracy:** Proportion of correct predictions.  \n",
        "\n",
        "    - **Precision & Recall:** Focus on positive class performance.  \n",
        "\n",
        "    - **F1-Score:** Harmonic mean of precision and recall.  \n",
        "    \n",
        "    - **ROC-AUC:** Evaluates classification performance at all thresholds."
      ]
    },
    {
      "cell_type": "markdown",
      "metadata": {
        "id": "lqcuQcPKKVgz"
      },
      "source": [
        "12. **How does class imbalance affect Logistic Regression?**  \n",
        "\n",
        "    - Model tends to favor the majority class.  \n",
        "\n",
        "    - May result in poor performance on the minority class.  \n",
        "    \n",
        "    - Techniques like resampling, class weights, or SMOTE can address imbalance."
      ]
    },
    {
      "cell_type": "markdown",
      "metadata": {
        "id": "FjriLYBJKVg0"
      },
      "source": [
        "13. **What is Hyperparameter Tuning in Logistic Regression?**  \n",
        "\n",
        "    - Process of finding the best parameters (like \\( λ \\), solver).  \n",
        "\n",
        "    - Improves model performance and prevents overfitting.  \n",
        "\n",
        "    - Common methods: Grid Search, Random Search, or Bayesian Optimization.  "
      ]
    },
    {
      "cell_type": "markdown",
      "metadata": {
        "id": "fpW-wfTaKVg0"
      },
      "source": [
        "14. **Different solvers in Logistic Regression? Which one should be used?**  \n",
        "\n",
        "    - **liblinear:** Best for small datasets and binary classification.  \n",
        "\n",
        "    - **saga:** Supports L1 regularization and works for large datasets.  \n",
        "    \n",
        "    - **lbfgs:** Suitable for multiclass classification and larger datasets."
      ]
    },
    {
      "cell_type": "markdown",
      "metadata": {
        "id": "BLJNlOaTKVg0"
      },
      "source": [
        "15. **How is Logistic Regression extended for multiclass classification?**  \n",
        "\n",
        "    - Uses **One-vs-Rest (OvR)** or **Softmax (multinomial logistic regression)**.  \n",
        "\n",
        "    - OvR trains one classifier per class vs. the rest.  \n",
        "    \n",
        "    - Softmax assigns probabilities across all classes simultaneously.  "
      ]
    },
    {
      "cell_type": "markdown",
      "metadata": {
        "id": "lk2TtUkDKVg0"
      },
      "source": [
        "16. **Advantages and disadvantages of Logistic Regression?**  \n",
        "\n",
        "    ✅ Simple, easy to implement, and interpretable.  \n",
        "\n",
        "    ✅ Works well for linearly separable data.  \n",
        "\n",
        "    ❌ Struggles with non-linear relationships.  \n",
        "    \n",
        "    ❌ Sensitive to outliers and irrelevant features.  "
      ]
    },
    {
      "cell_type": "markdown",
      "metadata": {
        "id": "LeK0FenYKVg1"
      },
      "source": [
        "17. **Use cases of Logistic Regression?**  \n",
        "\n",
        "    - **Spam detection** in emails.  \n",
        "\n",
        "    - **Credit scoring** in banking.  \n",
        "\n",
        "    - **Medical diagnosis** for predicting diseases.  \n",
        "    \n",
        "    - **Customer churn prediction** in businesses.  "
      ]
    },
    {
      "cell_type": "markdown",
      "metadata": {
        "id": "HBKJLKBoKVg1"
      },
      "source": [
        "18. **Difference between Softmax Regression and Logistic Regression?**  \n",
        "\n",
        "    - Logistic Regression handles binary classification tasks.  \n",
        "\n",
        "    - Softmax Regression is used for multiclass classification.  \n",
        "    \n",
        "    - Softmax outputs probabilities across multiple classes that sum to 1.  "
      ]
    },
    {
      "cell_type": "markdown",
      "metadata": {
        "id": "Rd9E_8WVKVg1"
      },
      "source": [
        "19. **How to choose between One-vs-Rest (OvR) and Softmax for multiclass classification?**  \n",
        "\n",
        "    - **OvR:** Better for imbalanced datasets and simpler to implement.  \n",
        "\n",
        "    - **Softmax:** Best when classes are mutually exclusive and balanced.  \n",
        "    \n",
        "    - Softmax provides a unified probability distribution across classes.  "
      ]
    },
    {
      "cell_type": "markdown",
      "metadata": {
        "id": "OB9T-dw1KVg2"
      },
      "source": [
        "\n",
        "20. **How do we interpret coefficients in Logistic Regression?**\n",
        "\n",
        "    - Each coefficient represents the change in the log-odds of the target variable.  \n",
        "\n",
        "    - A positive coefficient increases the probability of the outcome.  \n",
        "    \n",
        "    - A negative coefficient decreases the likelihood of the outcome.  "
      ]
    }
  ],
  "metadata": {
    "language_info": {
      "name": "python"
    },
    "colab": {
      "provenance": [],
      "include_colab_link": true
    }
  },
  "nbformat": 4,
  "nbformat_minor": 0
}