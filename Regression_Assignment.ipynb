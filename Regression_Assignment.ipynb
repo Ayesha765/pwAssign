{
  "cells": [
    {
      "cell_type": "markdown",
      "metadata": {
        "id": "view-in-github",
        "colab_type": "text"
      },
      "source": [
        "<a href=\"https://colab.research.google.com/github/Ayesha765/pwAssign/blob/main/Regression_Assignment.ipynb\" target=\"_parent\"><img src=\"https://colab.research.google.com/assets/colab-badge.svg\" alt=\"Open In Colab\"/></a>"
      ]
    },
    {
      "cell_type": "markdown",
      "metadata": {
        "id": "XNm1V-URGwC8"
      },
      "source": [
        "**1. What is Simple Linear Regression?**  \n",
        "\n",
        "Simple Linear Regression is a statistical technique used to model the relationship between a dependent variable (Y) and a single independent variable (X) by fitting a linear equation, \\( Y = mX + c \\), where \\( m \\) is the slope and \\( c \\) is the intercept.\n"
      ]
    },
    {
      "cell_type": "markdown",
      "metadata": {
        "id": "Lwj8cCfoGwC_"
      },
      "source": [
        "\n",
        "**2. What are the key assumptions of Simple Linear Regression?**  \n",
        "\n",
        "   - Linear relationship between X and Y.  \n",
        "   - Homoscedasticity: Equal variance of residuals.  \n",
        "   - Independence of residuals.  \n",
        "   - Normally distributed residuals.  \n",
        "   - No or minimal multicollinearity."
      ]
    },
    {
      "cell_type": "markdown",
      "metadata": {
        "id": "cZHRdeCrGwDA"
      },
      "source": [
        "**3. What does the coefficient ( m ) represent in the equation ( Y = mX + c ) ?**  \n",
        "\n",
        "\n",
        "The coefficient ( m ) represents the slope of the line, indicating the rate of change in ( Y ) for a one-unit change in ( X ).\n",
        "\n",
        "- Positive \\( m \\):\\( Y \\) increases as \\( X \\) increases.\n",
        "\n",
        "- Negative \\( m \\): \\( Y \\) decreases as \\( X \\) increases.  \n",
        "\n",
        "- Zero \\( m \\): No relationship between \\( X \\) and \\( Y \\).  \n",
        "\n",
        "Example: If \\( m = 2 \\), \\( Y \\) increases by 2 units for every 1-unit increase in \\( X \\)."
      ]
    },
    {
      "cell_type": "markdown",
      "metadata": {
        "id": "dS9UuL8XGwDB"
      },
      "source": [
        "\n",
        "**4. What does the intercept (c) represent in the equation ( Y = mX + c )?**  \n",
        "\n",
        "\n",
        "The intercept (c) in the equation ( Y = mX + c ) represents the value of the dependent variable ( Y ) when the independent variable ( X = 0 ).  \n",
        "\n",
        "In simpler terms:  \n",
        "- It is the point where the regression line crosses the Y-axis.  \n",
        "- It indicates the baseline or starting value of ( Y ) before any effect of ( X ) is applied.  \n"
      ]
    },
    {
      "cell_type": "markdown",
      "metadata": {
        "id": "vISupkc0GwDB"
      },
      "source": [
        "\n",
        "**5. How do we calculate the slope ( m ) in Simple Linear Regression?**  \n",
        "\n",
        "   The slope ( m ) is calculated as:  \n",
        "\n",
        "   m = Σ((xi - x̄)(yi - ȳ)) / Σ((xi - x̄)²)\n",
        "\n",
        "   where \"xi\" represents individual x values, \"x̄\" is the mean of x values, \"yi\" represents individual y values, and \"ȳ\" is the mean of y values; essentially, it calculates the sum of the products of the deviations of x and y values from their respective means, divided by the sum of the squared deviations of x values from its mean.\n",
        "\n"
      ]
    },
    {
      "cell_type": "markdown",
      "metadata": {
        "id": "ShCtEmIKGwDC"
      },
      "source": [
        "\n",
        "**6. What is the purpose of the least squares method in Simple Linear Regression?**  \n",
        "\n",
        "   The least squares method minimizes the sum of the squared differences between the observed values and the predicted values, ensuring the best-fitting line.\n"
      ]
    },
    {
      "cell_type": "markdown",
      "metadata": {
        "id": "MnUGPjsLGwDC"
      },
      "source": [
        "**7. How is the coefficient of determination (R²) interpreted in Simple Linear Regression?**  \n",
        "\n",
        "   ( R² ) represents the proportion of the variance in the dependent variable \\( Y \\) that is explained by the independent variable \\( X \\). Values range from 0 to 1, with higher values indicating better model fit."
      ]
    },
    {
      "cell_type": "markdown",
      "metadata": {
        "id": "9xMkQutbGwDD"
      },
      "source": [
        "**8. What is Multiple Linear Regression?**  \n",
        "\n",
        "   \n",
        "- Multiple Linear Regression is a statistical technique used to model the relationship between a dependent variable and two or more independent variables by fitting a linear equation."
      ]
    },
    {
      "cell_type": "markdown",
      "metadata": {
        "id": "OROesZi-GwDE"
      },
      "source": [
        "\n",
        "**9. What is the main difference between Simple and Multiple Linear Regression?**  \n",
        "   The key difference between Simple and Multiple Linear Regression lies in the number of independent variables used:\n",
        "\n",
        "**Simple Linear Regression:**\n",
        " * Examines the relationship between a single independent variable (X) and a dependent variable (Y).\n",
        " * Models this relationship with a straight line.\n",
        "\n",
        "**Multiple Linear Regression:**\n",
        " * Examines the relationship between **multiple** independent variables (X1, X2, X3, ...) and a dependent variable (Y).\n",
        " * Models this relationship with a more complex equation that considers the combined influence of all independent variables.\n",
        "\n",
        "**In essence:**\n",
        "\n",
        "* Simple Linear Regression focuses on a one-to-one relationship.\n",
        "* Multiple Linear Regression focuses on a more nuanced relationship where the dependent variable is influenced by several factors.\n"
      ]
    },
    {
      "cell_type": "markdown",
      "metadata": {
        "id": "1-pUKITMGwDF"
      },
      "source": [
        "\n",
        "**10. What are the key assumptions of Multiple Linear Regression?**  \n",
        "\n",
        " - Linearity between predictors and the outcome.  \n",
        "\n",
        " - Independence of residuals.  \n",
        "\n",
        " - Homoscedasticity of residuals.  \n",
        "\n",
        " - Multivariate normality of residuals.  \n",
        "    \n",
        " - No or minimal multicollinearity.  "
      ]
    },
    {
      "cell_type": "markdown",
      "metadata": {
        "id": "8gGJmr90GwDF"
      },
      "source": [
        "\n",
        "**11. What is heteroscedasticity, and how does it affect the results of a Multiple Linear Regression model?**\n",
        "\n",
        " Heteroscedasticity occurs when the variance of residuals is not constant across all levels of the independent variables. It can lead to biased standard errors and unreliable hypothesis tests."
      ]
    },
    {
      "cell_type": "markdown",
      "metadata": {
        "id": "48iWBHhfGwDF"
      },
      "source": [
        "**12. How can you improve a Multiple Linear Regression model with high multicollinearity?**  \n",
        " - Remove highly correlated predictors.  \n",
        " - Use regularization techniques like Ridge or Lasso regression.  \n",
        " - Combine correlated variables using Principal Component Analysis (PCA).  \n"
      ]
    },
    {
      "cell_type": "markdown",
      "metadata": {
        "id": "QAGmmNeKGwDG"
      },
      "source": [
        "**13. What are some common techniques for transforming categorical variables for use in regression models?**  \n",
        "   - One-hot encoding.  \n",
        "   - Label encoding.  \n",
        "   - Dummy variable creation.  "
      ]
    },
    {
      "cell_type": "markdown",
      "metadata": {
        "id": "67bmpU3IGwDG"
      },
      "source": [
        "**14. What is the role of interaction terms in Multiple Linear Regression?**  \n",
        "\n",
        "- Interaction terms capture the combined effect of two variables on the dependent variable, providing insights into whether the relationship between one predictor and the outcome changes depending on the value of another predictor."
      ]
    },
    {
      "cell_type": "markdown",
      "metadata": {
        "id": "ynFtdgM5GwDG"
      },
      "source": [
        "**15.How can the interpretation of the intercept differ between Simple and Multiple Linear Regression?**  \n",
        "\n",
        "-  In Simple Linear Regression, the intercept represents the value of ( Y ) when ( X = 0 ). In Multiple Linear Regression, it represents ( Y ) when all independent variables are 0, which may not always be meaningful."
      ]
    },
    {
      "cell_type": "markdown",
      "metadata": {
        "id": "rznDypJTGwDG"
      },
      "source": [
        "\n",
        "**16. What is the significance of the slope in regression analysis, and how does it affect predictions?**\n",
        "\n",
        "  - The slope indicates the change in the dependent variable for a one-unit change in the independent variable. It directly impacts predictions by determining how changes in predictors affect the outcome.\n"
      ]
    },
    {
      "cell_type": "markdown",
      "metadata": {
        "id": "hgjoEqG2GwDH"
      },
      "source": [
        "**17. How does the intercept in a regression model provide context for the relationship between variables?**  \n",
        "\n",
        " The intercept anchors the regression line, showing the baseline value of the dependent variable when all predictors are zero."
      ]
    },
    {
      "cell_type": "markdown",
      "metadata": {
        "id": "mi2F9WwWGwDH"
      },
      "source": [
        "**18. What are the limitations of using Rsqare  as a sole measure of model performance?**  \n",
        "\n",
        "  - It does not account for overfitting.  \n",
        "  - It does not indicate how well the model predicts new data.  \n",
        "  - It does not reveal if predictors are significant.  \n"
      ]
    },
    {
      "cell_type": "markdown",
      "metadata": {
        "id": "cm7V0VY2GwDH"
      },
      "source": [
        "\n",
        "**19. How would you interpret a large standard error for a regression coefficient?**  \n",
        "\n",
        " - A large standard error indicates high uncertainty in the estimated coefficient, making it less reliable."
      ]
    },
    {
      "cell_type": "markdown",
      "metadata": {
        "id": "hWeN8IBoGwDH"
      },
      "source": [
        "**20. How can heteroscedasticity be identified in residual plots, and why is it important to address it?**  \n",
        "\n",
        " Heteroscedasticity appears as a funnel shape in residual vs. fitted value plots. Addressing it improves the reliability of standard errors and hypothesis tests."
      ]
    },
    {
      "cell_type": "markdown",
      "metadata": {
        "id": "_T7Yav4YGwDI"
      },
      "source": [
        "\n",
        "**21. What does it mean if a Multiple Linear Regression model has a high \\( R^2 \\) but low adjusted \\( R^2 \\)?**\n",
        "\n",
        "- This indicates that adding predictors does not significantly improve the model and may lead to overfitting.\n"
      ]
    },
    {
      "cell_type": "markdown",
      "metadata": {
        "id": "2y3N7z0zGwDI"
      },
      "source": [
        "**22. Why is it important to scale variables in Multiple Linear Regression?**\n",
        "\n",
        "- Scaling ensures predictors with different units do not dominate the regression equation, improving model interpretability and numerical stability.\n",
        "\n",
        "---"
      ]
    },
    {
      "cell_type": "markdown",
      "metadata": {
        "id": "_CFbcsTGGwDI"
      },
      "source": [
        "**24. How does polynomial regression differ from linear regression?**  \n",
        "\n",
        " Linear regression models a straight-line relationship, while polynomial regression can model non-linear relationships."
      ]
    },
    {
      "cell_type": "markdown",
      "metadata": {
        "id": "bAKRqlqxGwDI"
      },
      "source": [
        "**25. When is Polynomial Regression used?**\n",
        "\n",
        "Polynomial regression is used when the relationship between the independent variable and dependent variable is *non-linear*.  \n",
        "\n",
        "**Examples of use cases:**  \n",
        "- Predicting sales trends that follow seasonal patterns.  \n",
        "- Modeling population growth or decay.  \n",
        "- Capturing the effect of age on health metrics (e.g., U-shaped or inverted U-shaped curves).  \n"
      ]
    },
    {
      "cell_type": "markdown",
      "metadata": {
        "id": "pedeDvz6GwDJ"
      },
      "source": [
        "\n",
        "**26. What is the general equation for polynomial regression?**\n",
        "\n",
        "The general equation for polynomial regression is:\n",
        "\n",
        "    *  y = β₀ + β₁x + β₂x² 1  + ... + βₙxⁿ + ε\n",
        "\n",
        "- y: The dependent variable (the outcome you're trying to predict)\n",
        "\n",
        "- x: The independent variable (the predictor)\n",
        "\n",
        "- β₀: The intercept (the value of y when x is 0)\n",
        "\n",
        "- β₁, β₂, ..., βₙ: The coefficients of the polynomial terms\n",
        "\n",
        "- x², x³, ..., xⁿ: Higher-order terms of the independent variable (x squared, x cubed, etc.)\n",
        "\n",
        "- ε: The error term (the difference between the actual y value and the predicted y value)\n",
        "\n",
        "- n represents the degree of the polynomial."
      ]
    },
    {
      "cell_type": "markdown",
      "metadata": {
        "id": "S6t3RtVkGwDJ"
      },
      "source": [
        "\n",
        "**27. Can polynomial regression be applied to multiple variables?**  \n",
        "\n",
        "  Yes, polynomial regression can be extended to multiple variables by including interaction and polynomial terms for each variable.\n",
        "  \n",
        "\n",
        "**28. What are the limitations of polynomial regression?**  \n",
        "\n",
        " - Overfitting with high-degree polynomials.  \n",
        " - Sensitive to outliers.  \n",
        " - Poor extrapolation performance.\n",
        "\n",
        "\n",
        "\n",
        "**29. What methods can be used to evaluate model fit when selecting the degree of a polynomial?**  \n",
        "\n",
        "  - Cross-validation.  \n",
        "  - Residual plots.  \n",
        "  - Adjusted \\( R^2 \\).  \n",
        "  - Mean Squared Error (MSE).\n",
        "\n",
        "**30. Why is visualization important in polynomial regression?**\n",
        "\n",
        "   Visualization helps to assess whether the polynomial captures the data's pattern and to avoid overfitting or underfitting.\n",
        "\n"
      ]
    },
    {
      "cell_type": "markdown",
      "metadata": {
        "id": "ev8Af28iGwDJ"
      },
      "source": [
        "\n",
        "**31. How is polynomial regression implemented in Python?**  \n",
        "\n",
        "   Polynomial regression is implemented using `PolynomialFeatures` from `sklearn.preprocessing` to transform data, followed by fitting a linear regression model using `LinearRegression`."
      ]
    },
    {
      "cell_type": "code",
      "execution_count": null,
      "metadata": {
        "id": "LWa5WZslGwDK",
        "outputId": "5cf49aeb-356f-48f5-a9cd-255b8d5205de"
      },
      "outputs": [
        {
          "data": {
            "image/png": "[encoded data removed]",
            "text/plain": [
              "<Figure size 640x480 with 1 Axes>"
            ]
          },
          "metadata": {},
          "output_type": "display_data"
        }
      ],
      "source": [
        "\n",
        "import numpy as np\n",
        "import matplotlib.pyplot as plt\n",
        "from sklearn.preprocessing import PolynomialFeatures\n",
        "from sklearn.linear_model import LinearRegression\n",
        "\n",
        "# Data\n",
        "X = np.array([1, 2, 3, 4, 5]).reshape(-1, 1)\n",
        "y = np.array([2.5, 6.8, 7.2, 10.1, 12.9])\n",
        "\n",
        "# Transform data to include polynomial terms\n",
        "poly = PolynomialFeatures(degree=2)  # 2nd-degree polynomial\n",
        "X_poly = poly.fit_transform(X)\n",
        "\n",
        "# Fit the model\n",
        "model = LinearRegression()\n",
        "model.fit(X_poly, y)\n",
        "\n",
        "# Predictions\n",
        "y_pred = model.predict(X_poly)\n",
        "\n",
        "# Visualization\n",
        "plt.scatter(X, y, color='blue', label='Data')\n",
        "plt.plot(X, y_pred, color='red', label='Polynomial Fit')\n",
        "plt.legend()\n",
        "plt.show()\n",
        "\n",
        "\n",
        "# This code fits a 2nd-degree polynomial regression model and plots the curve."
      ]
    }
  ],
  "metadata": {
    "kernelspec": {
      "display_name": "Python 3",
      "language": "python",
      "name": "python3"
    },
    "language_info": {
      "codemirror_mode": {
        "name": "ipython",
        "version": 3
      },
      "file_extension": ".py",
      "mimetype": "text/x-python",
      "name": "python",
      "nbconvert_exporter": "python",
      "pygments_lexer": "ipython3",
      "version": "3.12.4"
    },
    "colab": {
      "provenance": [],
      "include_colab_link": true
    }
  },
  "nbformat": 4,
  "nbformat_minor": 0
}