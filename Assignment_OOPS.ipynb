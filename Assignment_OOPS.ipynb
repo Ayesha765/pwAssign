{
  "nbformat": 4,
  "nbformat_minor": 0,
  "metadata": {
    "colab": {
      "provenance": [],
      "authorship_tag": "ABX9TyM3JiNhOzkB7KsUuLffElHP",
      "include_colab_link": true
    },
    "kernelspec": {
      "name": "python3",
      "display_name": "Python 3"
    },
    "language_info": {
      "name": "python"
    }
  },
  "cells": [
    {
      "cell_type": "markdown",
      "metadata": {
        "id": "view-in-github",
        "colab_type": "text"
      },
      "source": [
        "<a href=\"https://colab.research.google.com/github/Ayesha765/pwAssign/blob/main/Assignment_OOPS.ipynb\" target=\"_parent\"><img src=\"https://colab.research.google.com/assets/colab-badge.svg\" alt=\"Open In Colab\"/></a>"
      ]
    },
    {
      "cell_type": "markdown",
      "source": [
        "**Q.1 What are the five key concepts of Object-Oriented Programming (OOP)?**\n",
        "\n",
        "The five key concepts of Object-Oriented Programming (OOP) are:\n",
        "\n",
        "Classes and Objects:\n",
        "\n",
        "Classes are blue print of templet for creating an object. It defines the properties (attributes) and behaviors (methods) that the objects created from the class will have.\n",
        "\n",
        "Object: An instance of a class, representing a specific entity.\n",
        "\n",
        "Encapsulation:\n",
        "\n",
        "Means bundling of data and methods of class by using some acess modifiers like private, protected, and public to protect the integrity of the data.\n",
        "\n",
        "Abstraction:\n",
        "\n",
        "It is the concept of hiding complex impletation hidinh the unnecessary details and only exposingthr requird . This simplifies interaction with objects and helps in focusing on what an object does rather than how it does it.\n",
        "\n",
        "Inheritance:\n",
        "\n",
        "It refers to process of child receiving the properties of parent class\n",
        "The mechanism by which a new class (subclass) can inherit properties and behaviors from an existing class (superclass). This promotes code reusability and the establishment of hierarchical relationships between classes.\n",
        "\n",
        "Polymorphism :\n",
        "\n",
        "Polymorhism refers to an object taking several forms depending on the methods / state. The ability to define a single interface or method that can be used by objects of different types. It allows methods to be overridden in subclasses to behave differently based on the object’s type, while still maintaining a common interface.\n",
        "\n"
      ],
      "metadata": {
        "id": "qcnuQGcXLqwN"
      }
    },
    {
      "cell_type": "markdown",
      "source": [
        "**Q.2 Write a Python class for a Car with attributes for make, model, and year. Include a method to display the car's information.**\n"
      ],
      "metadata": {
        "id": "0im5tg2GLrWh"
      }
    },
    {
      "cell_type": "code",
      "execution_count": 1,
      "metadata": {
        "colab": {
          "base_uri": "https://localhost:8080/"
        },
        "id": "CmAo10nRLj40",
        "outputId": "fb8ddf89-6203-45e8-a0db-81fc33bff9b2"
      },
      "outputs": [
        {
          "output_type": "stream",
          "name": "stdout",
          "text": [
            "Car Information:  Mahindra THAR 2024\n"
          ]
        }
      ],
      "source": [
        "class Car:\n",
        "    def __init__(self, make, model, year):\n",
        "\n",
        "        self.make = make\n",
        "        self.model = model\n",
        "        self.year = year\n",
        "\n",
        "    def display_info(self):\n",
        "        print(\"Car Information: \",self.make,self.model,self.year)\n",
        "\n",
        "# Example of displaying the car information\n",
        "car_1 = Car(\"Mahindra\", \"THAR\", 2024)\n",
        "car_1.display_info()"
      ]
    },
    {
      "cell_type": "markdown",
      "source": [
        "**Q.3 Explain the difference between instance methods and class methods. Provide an example of each.**\n",
        "\n",
        "1.  Instance methods:\n",
        " *  operate on individual instances of a class and can access or modify instance-specific data. They use self as the first parameter. An instance method is a function defined inside a class that operates on instances (objects) of that class.\n",
        " *  It can access and modify instance-specific data (attributes) using the self parameter, which refers to the current object. Instance methods can perform actions that are specific to the object they are called on.\n",
        "\n",
        " *   self is the first parameter and refers to the instance.\n",
        " *   It can access or modify instance variables.\n",
        " *   It is called on an instance of a class.\n",
        "\n",
        "Class method :\n",
        " *  In Python, classes are used to create objects which have properties (attributes) and behaviors (methods).\n",
        " *  Methods are functions defined inside a class and can be broadly categorized into two types: Class Methods and Static Methods.\n",
        " *  Class methods are methods that are bound to the class and not the instance of the class.\n",
        " *  They can access or modify class state that applies across all instances of the class.\n",
        " *  Class methods are defined using the @classmethod decorator\n",
        " *  insted of self we use cls alternative of init method to pass the data"
      ],
      "metadata": {
        "id": "COYnbhxiMxYp"
      }
    },
    {
      "cell_type": "code",
      "source": [
        "# Example that demonstate both instance and class method >>>\n",
        "\n",
        "class Student:\n",
        "\n",
        "    total_student = 0  # class variable\n",
        "    def __init__(self,name): #instance method\n",
        "\n",
        "        self.name = name  # instance variable\n",
        "        Student.total_student = Student.total_student+1  # total student is the class variable associated with all the iinstances\n",
        "\n",
        "    @classmethod\n",
        "    def get_total_student(cls):\n",
        "        return cls.total_student\n",
        "\n",
        " # creating student object\n",
        "std1 = Student(\"swaraj\")\n",
        "std2 = Student(\"appu\")\n",
        "\n",
        "# Acessing the class method\n",
        "print(Student.get_total_student()) # output: 2"
      ],
      "metadata": {
        "colab": {
          "base_uri": "https://localhost:8080/"
        },
        "id": "kCiTm6VFOOZZ",
        "outputId": "215483cb-9ef8-43bd-97ba-2617457300f2"
      },
      "execution_count": 5,
      "outputs": [
        {
          "output_type": "stream",
          "name": "stdout",
          "text": [
            "2\n"
          ]
        }
      ]
    },
    {
      "cell_type": "markdown",
      "source": [
        "**Q.4 How does Python implement method overloading? Give an example.**\n",
        "*  Method overloading : Method overloading is the practice of invoking the same method more than once with different parameters. Method overloading is not supported by Python. Even if you overload the method, Python only takes into account the most recent definition. If you overload a method in Python, a\n",
        "*  Python does not directly support method overloading like some other programming languages. In Python, you cannot define multiple methods with the same name but different signatures (different number or types of parameters). Instead, Python achieves method overloading through default parameters or by using variable arguments TypeError will be raised\n"
      ],
      "metadata": {
        "id": "jJmcdbdFOg0E"
      }
    },
    {
      "cell_type": "code",
      "source": [
        "class Calculator:\n",
        "\n",
        "    def mult(self, a, b=1):  # b has a default value of 1\n",
        "        return a * b\n",
        "\n",
        "# Creating an instance of Calculator\n",
        "calc = Calculator()\n",
        "\n",
        "# multiply method with different numbers of arguments\n",
        "print(calc.mult(5))       # Output: 5\n",
        "print(calc.mult(5, 3))    # Output: 15\n"
      ],
      "metadata": {
        "colab": {
          "base_uri": "https://localhost:8080/"
        },
        "id": "sfdknqLgO4IC",
        "outputId": "230b6c13-e7da-499c-e695-477f16030d2c"
      },
      "execution_count": 6,
      "outputs": [
        {
          "output_type": "stream",
          "name": "stdout",
          "text": [
            "5\n",
            "15\n"
          ]
        }
      ]
    },
    {
      "cell_type": "markdown",
      "source": [
        "**Q.5 What are the three types of access modifiers in Python? How are they denoted?**\n",
        "\n",
        "In python there are three types of acess modifiers that control the visibility of class attributes and methods\n",
        "\n",
        "1.  Public (no underscore) :\n",
        "\n",
        "*  Accessible from anywhere: Public attributes and methods can be accessed both inside and outside the class.\n",
        "There No underscore before the attribute or method name.\n",
        "2.  Protected Modifier (_single_underscore) :\n",
        "*  Accessible within the class and its subclasses: A convention (not enforced by Python) to indicate that the attribute or method is for internal use only, but it can still be accessed outside the class.\n",
        "*  It is denoted by A single underscore _ before the attribute or method name.\n",
        "3.  Private Modifier (__double_underscore):\n",
        "*  Accessible only within the class: Private attributes and methods are intended to be fully hidden and cannot be accessed directly from outside the class.\n",
        "*  it is denoted by double underscore __ before the attribute or method name. Python name-mangles private attributes to make them inaccessible.\n",
        "\n"
      ],
      "metadata": {
        "id": "B0lKt_KUO7kU"
      }
    },
    {
      "cell_type": "code",
      "source": [
        "# Public\n",
        "class Student:\n",
        "    def __init__(self,name):\n",
        "        self.name = name # Public attribute\n",
        "\n",
        "# accessing the public attribute\n",
        "stud = Student(\"Ayesha\")\n",
        "\n",
        "print(stud.name) # output : Ayesha\n",
        "\n",
        "\n",
        "\n",
        "# Protected\n",
        "class Student:\n",
        "    def __init__(self, name):\n",
        "        self._name = name  # Protected attribute\n",
        "\n",
        "# Accessing a protected attribute\n",
        "stud_name = Student(\"Ahmed\")\n",
        "print(stud_name._name)  # Output: Ahmed\n",
        "\n",
        "\n",
        "# Private\n",
        "\n",
        "class Student:\n",
        "    def __init__(self, name , degree):\n",
        "        self.name = name # public member\n",
        "\n",
        "        self.__degree = degree # Private Member>> you can not acess or modify it\n",
        "std = Student(\"Ayesha\",\"Masters\")\n",
        "print(\"Degree:\",std._Student__degree) # output : Degree: Masters\n"
      ],
      "metadata": {
        "colab": {
          "base_uri": "https://localhost:8080/"
        },
        "id": "MuK1VMUrPFDc",
        "outputId": "49efa007-35b3-4850-81a8-42aa9f145016"
      },
      "execution_count": 7,
      "outputs": [
        {
          "output_type": "stream",
          "name": "stdout",
          "text": [
            "Ayesha\n",
            "Ahmed\n",
            "Degree: Masters\n"
          ]
        }
      ]
    },
    {
      "cell_type": "markdown",
      "source": [
        "**Q.6 Describe the five types of inheritance in Python. Provide a simple example of multiple inheritance.**\n",
        "\n",
        "1. Single inheritance :\n",
        "*  Involves one parent class and one child class.\n",
        "*  The child class inherits the properties and methods of the parent class.\n",
        "2.  Multiple Inheritance:\n",
        "*  A class can inherit from more than one parent class.\n",
        "*  The child class inherits properties and methods from all the parent classes.\n",
        "3. Multilevel Inheritance:\n",
        "*  class inherits from another class, which in turn inherits from another class, forming a chain.\n",
        "*  A class inherits from a child class or derived class under multilevel inheritance.\n",
        "4. Hierarchical Inheritance :\n",
        "*  A single parent class gives rise to multiple child classes under hierarchical inheritance.\n",
        "*  To put it another way, we can say that there is one parent class and several child classes.\n",
        "*  Multiple child classes inherit from the same parent class.\n",
        "5. Hybrid Inheritance:\n",
        "*  A combination of more than one type of inheritance. For example, a combination of multiple and hierarchical inheritance.\n",
        "*  When inheritance consists of multiple types or a combination of different inheritance is called hybrid inheritance\n"
      ],
      "metadata": {
        "id": "34vdsbJaPy8j"
      }
    },
    {
      "cell_type": "code",
      "source": [
        "# Example of Multiple Inheritance ::\n",
        "\n",
        "# THe first parent class\n",
        "class ParentClass1():\n",
        "    def method1(self): # method of Parent class one\n",
        "        print(\"Method 1 of parent class 1\")\n",
        "# the second parent class\n",
        "class ParentClass2():\n",
        "    def method2(self): # Method of ParentClass2\n",
        "        print(\"Method 2 of parent class 2\")\n",
        "\n",
        "# Define a child class that inherits from both ParentClass1 and ParentClass2\n",
        "class ChildClass(ParentClass1,ParentClass2):\n",
        "    def method(self):\n",
        "        print(\"Methode of child class\")\n",
        "\n",
        "# Create an object of ChildClass\n",
        "child_obj = ChildClass()\n",
        "\n",
        "# Calling the method of ChildClass\n",
        "child_obj.method()  # Output: Method of child class\n",
        "\n",
        "# Calling the inherited method from ParentClass1\n",
        "child_obj.method1()  # Output: Method 1 of parent class 1\n",
        "\n",
        "# Calling the inherited method from ParentClass2\n",
        "child_obj.method2()  # Output: Method 2 of parent class 2\n"
      ],
      "metadata": {
        "id": "QqjG8iiTQWiH"
      },
      "execution_count": null,
      "outputs": []
    },
    {
      "cell_type": "markdown",
      "source": [
        "**Q.7 What is the Method Resolution Order (MRO) in Python? How can you retrieve it programmatically?**\n",
        "\n",
        "In Python, the Method Resolution Order (MRO) is the order in which the interpreter searches for a method in a class hierarchy, especially when dealing with multiple inheritance.\n",
        "\n",
        "How MRO Works:\n",
        "\n",
        "*  Python uses the C3 linearization algorithm to determine the MRO.\n",
        "\n",
        "*  This algorithm ensures that a class's MRO respects the inheritance hierarchy and avoids any conflicts.\n",
        "\n",
        "*  It prioritizes the child class over its parent classes and follows a left-to-right order when dealing with multiple inheritance.\n",
        "\n",
        "Retrieving MRO Programmatically:\n",
        "\n"
      ],
      "metadata": {
        "id": "6awZOQ9QQx0p"
      }
    },
    {
      "cell_type": "code",
      "source": [
        "# You can retrieve the MRO of a class in two ways: using the mro() method.\n",
        "class A:\n",
        "      pass\n",
        "\n",
        "class B(A):\n",
        "      pass\n",
        "\n",
        "class C(B):\n",
        "      pass\n",
        "\n",
        "print(C.mro())\n",
        "\n",
        "# using the __mro__ attribute.\n",
        "\n",
        "print(C.__mro__)\n",
        "\n",
        "# Both methods will output the same result, which is a list of classes representing the MRO of the given class."
      ],
      "metadata": {
        "colab": {
          "base_uri": "https://localhost:8080/"
        },
        "id": "fqcCZGjGRPx_",
        "outputId": "322a9e0f-b872-42e6-8f08-f6b6d13c2fbe"
      },
      "execution_count": 8,
      "outputs": [
        {
          "output_type": "stream",
          "name": "stdout",
          "text": [
            "[<class '__main__.C'>, <class '__main__.B'>, <class '__main__.A'>, <class 'object'>]\n",
            "(<class '__main__.C'>, <class '__main__.B'>, <class '__main__.A'>, <class 'object'>)\n"
          ]
        }
      ]
    },
    {
      "cell_type": "markdown",
      "source": [
        "**Q.8 Create an abstract base class Shape with an abstract method area(). Then create two subclasses Circle and Rectangle that implement the area() method.**\n"
      ],
      "metadata": {
        "id": "AzD1LWTDRXX8"
      }
    },
    {
      "cell_type": "code",
      "source": [
        "import abc\n",
        "\n",
        "\n",
        "class Shape: # Abstract base class\n",
        "\n",
        "# Abstarct method that is common in both class and must be used\n",
        "    @abc.abstractmethod\n",
        "    def calculate_area(self):\n",
        "        pass\n",
        "\n",
        "# sub class rectangle having the property of Shape\n",
        "class Rectangle(Shape):\n",
        "\n",
        "    def __init__(self,width,height):\n",
        "        self.width = width\n",
        "        self.height = height\n",
        "\n",
        "    def calculate_area(self): # #area property of rectangle\n",
        "        return self.height * self.width\n",
        "\n",
        "# sub class circle inherting the property of Shape class\n",
        "class Circle(Shape):\n",
        "    def __init__(self,radius):\n",
        "        self.radius = radius\n",
        "\n",
        "    def calculate_area(self): # area method of circle\n",
        "        return 3.14*self.radius**2\n",
        "\n",
        "# Instances of the circle and Rectangle\n",
        "circle = Circle(5)\n",
        "rectangle = Rectangle(3,5)\n",
        "\n",
        "# printing the areas of the shapes\n",
        "print(\"Area of the Circle is :\", circle.calculate_area()) # Output : Area of the Circle is : 78.5\n",
        "print(\"Area of the reactangle: \", rectangle.calculate_area()) # Output : Area of the reactangle:  15\n"
      ],
      "metadata": {
        "colab": {
          "base_uri": "https://localhost:8080/"
        },
        "id": "lYevsGEzRjcw",
        "outputId": "a2378258-bbd7-4188-8b34-a2d9f47de346"
      },
      "execution_count": 9,
      "outputs": [
        {
          "output_type": "stream",
          "name": "stdout",
          "text": [
            "Area of the Circle is : 78.5\n",
            "Area of the reactangle:  15\n"
          ]
        }
      ]
    },
    {
      "cell_type": "markdown",
      "source": [
        "**Q.10. Implement encapsulation in a BankAccount class with private attributes for balance and account_number. Include methods for deposit, withdrawal,and balance inquiry.**\n"
      ],
      "metadata": {
        "id": "wAnIdGreRnYY"
      }
    },
    {
      "cell_type": "code",
      "source": [
        "# another use case\n",
        "\n",
        "class Bank: # creating the class bank\n",
        "\n",
        "# initialiging the account number and balance\n",
        "    def __init__(self,ac_no, balance=0):\n",
        "\n",
        "        # private attribute account number and balnce\n",
        "        self.__ac_no = ac_no\n",
        "        self.__balance= balance\n",
        "\n",
        "    def deposite(self,amount):  # Method to deposite money\n",
        "\n",
        "        if amount > 0:\n",
        "            self.__balance += amount # adding money to the current balance\n",
        "            print(\"The Amount you have deposited is :\",amount,\"Total balance :\", self.__balance)\n",
        "        else :\n",
        "            print(\"PLease deposite valid Amount\",\"Total balance is:\", self.__balance )\n",
        "\n",
        "\n",
        "    def withdraw(self,amount): # Method to Withdraw money from the account\n",
        "        if self.__balance >= amount:\n",
        "            self.__balance = self.__balance - amount\n",
        "            print(\"You have withdraw the amount of :\", amount, \"New balance is\", self.__balance )\n",
        "        else:\n",
        "            print(\"Insuficient Balance or Enter valid amount\")\n",
        "\n",
        "    def check_balance(self): # Method to check the balance\n",
        "        print (\"Your current Balance is:\", self.__balance)\n",
        "\n",
        " # creating a account object with some initial balance\n",
        "account = Bank(2232211, 1000)\n",
        "\n",
        "# depostie money to the account\n",
        "account.deposite(500)\n",
        "\n",
        "# Withdrw money from the account\n",
        "account.withdraw(600)\n",
        "\n",
        "# balance check\n",
        "account.check_balance()\n"
      ],
      "metadata": {
        "colab": {
          "base_uri": "https://localhost:8080/"
        },
        "id": "6wEpO0hkRzqw",
        "outputId": "910840e4-80a4-484e-c975-256dbf3601c4"
      },
      "execution_count": 10,
      "outputs": [
        {
          "output_type": "stream",
          "name": "stdout",
          "text": [
            "The Amount you have deposited is : 500 Total balance : 1500\n",
            "You have withdraw the amount of : 600 New balance is 900\n",
            "Your current Balance is: 900\n"
          ]
        }
      ]
    },
    {
      "cell_type": "markdown",
      "source": [
        "**Q.11 Write a class that overrides the __str__ and __add__ magic methods. What will these methods allow you to do?**\n",
        "\n",
        "*  Dunder methods, also known as magic methods or special methods, in Python are special reserved methods that are surrounded by double underscores ( method).\n",
        "*  These methods allow you to define how instances of your classes behave when they are used with built-in Python functions or operators.\n",
        "*  Understanding dunder methods is crucial for creating custom objects that behave like built-in types or implementing operator overloading in Python.\n"
      ],
      "metadata": {
        "id": "wSeMjyy6R8Wd"
      }
    },
    {
      "cell_type": "code",
      "source": [
        "class Point:\n",
        "    def __init__(self, x, y):\n",
        "        self.x = x\n",
        "        self.y = y\n",
        "\n",
        "    def __str__(self):\n",
        "        # over rides the __str__\n",
        "         return f\"Point({self.x}, {self.y})\"\n",
        "\n",
        "\n",
        "\n",
        "    def __add__(self, other):\n",
        "        # Custom addition behavior to add two points\n",
        "        if isinstance(other, Point):\n",
        "            return Point(self.x + other.x, self.y + other.y)\n",
        "        return NotImplemented\n",
        "\n",
        "\n",
        "# example uses\n",
        "# Creating two points\n",
        "p1 = Point(7 , 3)\n",
        "p2 = Point(5 , 2)\n",
        "\n",
        "# Printing the points (uses the __str__ method)\n",
        "print(p1)\n",
        "print(p2)\n",
        "# Adding two points together (uses the __add__ method)\n",
        "p3 = p1+p2\n",
        "print(p3)  # Output: Point(12, 5)\n"
      ],
      "metadata": {
        "colab": {
          "base_uri": "https://localhost:8080/"
        },
        "id": "gY6vkp2BSO4Q",
        "outputId": "2d8f7579-b638-4f9e-abbf-1843fce7c900"
      },
      "execution_count": 11,
      "outputs": [
        {
          "output_type": "stream",
          "name": "stdout",
          "text": [
            "Point(7, 3)\n",
            "Point(5, 2)\n",
            "Point(12, 5)\n"
          ]
        }
      ]
    },
    {
      "cell_type": "markdown",
      "source": [
        "**Q.12 Create a decorator that measures and prints the execution time of a function.**\n"
      ],
      "metadata": {
        "id": "4GI10NvCSOSe"
      }
    },
    {
      "cell_type": "code",
      "source": [
        "# runtime of a code\n",
        "\n",
        "import time # time modeule to measure the execution time\n",
        "def timer_decorator(func): # decorator function that measure the time for execution\n",
        "    def timer():\n",
        "        start = time.time() # start time\n",
        "        func()\n",
        "        end = time.time() # end time\n",
        "        print(\"The time for executing the code\",end-start) # calculate the diffrence\n",
        "    return timer\n",
        "\n",
        "# Decorating the func_test function with the timer_decorator\n",
        "@timer_decorator\n",
        "def func_test():\n",
        "    print(1011010457*1000710+421+447-41/47+6274*2) # simple function performs some calculation\n",
        "\n",
        "func_test() # calling the decorator function"
      ],
      "metadata": {
        "colab": {
          "base_uri": "https://localhost:8080/"
        },
        "id": "p6tvq0mQS5w3",
        "outputId": "3c97a7c0-8dc3-4bcf-a3cc-75cb5df42908"
      },
      "execution_count": 12,
      "outputs": [
        {
          "output_type": "stream",
          "name": "stdout",
          "text": [
            "1011728274437885.1\n",
            "The time for executing the code 6.580352783203125e-05\n"
          ]
        }
      ]
    },
    {
      "cell_type": "markdown",
      "source": [
        "**Q.13 Explain the concept of the Diamond Problem in multiple inheritance. How does Python resolve it?**\n",
        "*  The diamond problem is a specific issue that can arise in programming languages that support multiple inheritance, including Python.\n",
        "*  It occurs when a class inherits from two or more classes that have a common base class.\n",
        "*  This can lead to ambiguity in method resolution, causing conflicts and making it unclear which version of a method should be used.\n",
        "*  To mitigate the diamond problem, Python uses a method resolution order (MRO) algorithm called C3 linearization.\n",
        "*  The MRO determines the order in which the base classes are searched for a method or attribute. It follows a specific set of rules to ensure a consistent and unambiguous order.\n"
      ],
      "metadata": {
        "id": "6a15BaLQSnRX"
      }
    },
    {
      "cell_type": "code",
      "source": [
        "\n",
        "# consider the following example ::\n",
        "class A:\n",
        "    def method(self):\n",
        "        print(\"Method of class A\")\n",
        "class B(A):\n",
        "    def method(self):\n",
        "        print(\"Method of class B\")\n",
        "class C(A):\n",
        "    def method(self):\n",
        "        print(\"Method of class C\")\n",
        "class D(B,C):\n",
        "    pass\n",
        "\n",
        "d = D()\n",
        "d.method()  # display the method based on MRO\n",
        "\n",
        "print(D.mro())  # method resolution order\n"
      ],
      "metadata": {
        "colab": {
          "base_uri": "https://localhost:8080/"
        },
        "id": "QUL9SmRgTNJY",
        "outputId": "29de5462-f91f-4179-e588-f821cfbd3743"
      },
      "execution_count": 13,
      "outputs": [
        {
          "output_type": "stream",
          "name": "stdout",
          "text": [
            "Method of class B\n",
            "[<class '__main__.D'>, <class '__main__.B'>, <class '__main__.C'>, <class '__main__.A'>, <class 'object'>]\n"
          ]
        }
      ]
    },
    {
      "cell_type": "markdown",
      "source": [
        "**Q.14 Write a class method that keeps track of the number of instances created from a class.**\n"
      ],
      "metadata": {
        "id": "zM0iBz_dSuFz"
      }
    },
    {
      "cell_type": "code",
      "source": [
        "class InstanceCounter: # class for counting instance\n",
        "\n",
        "    inst_count = 0 # variable to keep track of instances\n",
        "\n",
        "    def __init__(self):\n",
        "        InstanceCounter.inst_count = InstanceCounter.inst_count + 1 # instance increment when instance is added\n",
        "\n",
        "    @classmethod\n",
        "    def get_inst_count(cls):\n",
        "        # Return the current instance count\n",
        "        return cls.inst_count\n",
        "\n",
        "# Creating instances\n",
        "obj1 = InstanceCounter()\n",
        "obj2 = InstanceCounter()\n",
        "obj3 = InstanceCounter()\n",
        "\n",
        "# Accessing the instance by the class method\n",
        "print(InstanceCounter.get_inst_count())  # Output: 3"
      ],
      "metadata": {
        "colab": {
          "base_uri": "https://localhost:8080/"
        },
        "id": "2wAYIzzXTZy1",
        "outputId": "9ef91504-33aa-4f15-f1ec-121b8dd76501"
      },
      "execution_count": 14,
      "outputs": [
        {
          "output_type": "stream",
          "name": "stdout",
          "text": [
            "3\n"
          ]
        }
      ]
    },
    {
      "cell_type": "markdown",
      "source": [
        "**Q. 15. Implement a static method in a class that checks if a given year is a leap year.**\n"
      ],
      "metadata": {
        "id": "UixUymwlSwvl"
      }
    },
    {
      "cell_type": "code",
      "source": [
        "class Leap_Year:\n",
        "    @staticmethod\n",
        "    def chk_leap(year):\n",
        "        if year % 4 ==0:\n",
        "            if year % 100 == 0:\n",
        "                if year % 400 ==0:\n",
        "                    return True\n",
        "                else :\n",
        "                   return False\n",
        "            else:\n",
        "                return True\n",
        "        else:\n",
        "           return False\n",
        "\n",
        "\n",
        "# example uses\n",
        "print(Leap_Year.chk_leap(2024)) # Output : True\n",
        "print(Leap_Year.chk_leap(2019)) # Output : False\n",
        "print(Leap_Year.chk_leap(2014)) # Output : False\n",
        "print(Leap_Year.chk_leap(2020)) # Output : True"
      ],
      "metadata": {
        "colab": {
          "base_uri": "https://localhost:8080/"
        },
        "id": "KysMqjctTfE2",
        "outputId": "0f7a37e6-6264-4ee5-ff71-8eafc5149748"
      },
      "execution_count": 17,
      "outputs": [
        {
          "output_type": "stream",
          "name": "stdout",
          "text": [
            "True\n",
            "False\n",
            "False\n",
            "True\n"
          ]
        }
      ]
    }
  ]
}