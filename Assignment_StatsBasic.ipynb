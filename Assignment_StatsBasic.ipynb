{
  "nbformat": 4,
  "nbformat_minor": 0,
  "metadata": {
    "colab": {
      "provenance": [],
      "authorship_tag": "ABX9TyOGmBUF+poU8JHKMwh/cNIN",
      "include_colab_link": true
    },
    "kernelspec": {
      "name": "python3",
      "display_name": "Python 3"
    },
    "language_info": {
      "name": "python"
    }
  },
  "cells": [
    {
      "cell_type": "markdown",
      "metadata": {
        "id": "view-in-github",
        "colab_type": "text"
      },
      "source": [
        "<a href=\"https://colab.research.google.com/github/Ayesha765/pwAssign/blob/main/Assignment_StatsBasic.ipynb\" target=\"_parent\"><img src=\"https://colab.research.google.com/assets/colab-badge.svg\" alt=\"Open In Colab\"/></a>"
      ]
    },
    {
      "cell_type": "markdown",
      "source": [
        "#**Statistics Basic Assignment :**\n",
        "\n",
        "Q.1. Explain the different types of data (qualitative and quantitative) and provide examples of each. Discuss nominal, ordinal, interval, and ratio scales.\n",
        "\n",
        "According to Statistics Data can be broadly classified into two types: Qualitative and Quantitative.\n",
        "\n",
        "--Qualitative Data :\n",
        "\n",
        "Qualitative Data also known as Categorical data describes characteristics or qualities. It doesn't involve numbers that measure a quantity but rather labels or names.\n",
        "\n",
        "Types of Qualitative Data :\n",
        "\n",
        "Nominal Data : Data that can be categorized but not ranked. Thias data is not in order .\n",
        "\n",
        "Examples:\n",
        "Eye color (blue, green, brown)\n",
        "Gender (male, female, non-binary)\n",
        "\n",
        "Ordinal Data : Data that can be categorized and ranked, but the differences between ranks are not meaningful or consistent. This data is in ordered .\n",
        "\n",
        "Example :\n",
        "Customer satisfaction levels (e.g., very satisfied, satisfied, neutral, dissatisfied)\n",
        "Education levels (e.g., high school, bachelor's degree, master's degree)\n",
        "\n",
        "Quantitative Data (Numerical Data) : Quantitative data deals with numbers and involves measurable quantities . You can do mathematical operations.\n",
        "\n",
        "Example :\n",
        "Age (e.g., 25 years, 40 years)\n",
        "Height (e.g., 5.8 feet, 6.2 feet)\n",
        "Temperature (e.g., 30°C, 100°F)\n",
        "\n",
        "Types of Quantitative Data :\n",
        "\n",
        "Interval Data: Numerical data where the differences between values are meaningful, but there is no true zero point. Ratios cannot be computed because a \"zero\" value doesn't mean the absence of the quantity.\n",
        "\n",
        "Examples:\n",
        "Temperature in Celsius or Fahrenheit (0°C doesn’t mean there is no temperature)\n",
        "Years (e.g., 2000, 2020; the difference between years matters, but \"year 0\" doesn't imply the absence of time)\n",
        "\n",
        "Ratio Data: Numerical data where both differences and ratios between values are meaningful, and there is a true zero point, meaning a complete absence of the quantity.\n",
        "\n",
        "Examples:\n",
        "Height (a height of 0 means no height)\n",
        "Weight (a weight of 0 means no weight)\n",
        "Income (an income of $0 means no earnings)\n"
      ],
      "metadata": {
        "id": "okziar82LIFy"
      }
    },
    {
      "cell_type": "markdown",
      "source": [
        "Q.2 What are the measures of central tendency, and when should you use each? Discuss the mean, median, and mode with examples and situations where each is appropriate.\n",
        "\n",
        "The measures of central tendency are statistical tools used to summarize a dataset with a single value that represents the center of the data. The three most common measures are mean, median, and mode. Each has specific use cases depending on the nature of the data.\n",
        "\n",
        "1. Mean:\n",
        "\n",
        "The mean is the arithmetic average; for calculating the mean add up all of the values and divide by the number of observations in your dataset.\n",
        "\n",
        "It is the most common measure of central tendency, but it can be sensitive to outliers (extremely high or low values).\n",
        "\n",
        "Formula : Mean= ∑Values / Number of Values\n",
        "\n",
        "​When to use:\n",
        "\n",
        "Use the mean when the data is numerical and symmetrically distributed (no significant outliers).\n",
        "\n",
        "Example: Average exam scores of students in a class, where the distribution is fairly even.\n",
        "\n",
        "When not to use:\n",
        "\n",
        "If the data contains outliers or is skewed, the mean may not represent the central tendency well.\n",
        "For example, in income data, where a few people may earn significantly more, the mean can be misleading.\n",
        "2. Median\n",
        "\n",
        "The median is the middle value when a dataset is ordered from lowest to highest. If there is an even number of values, the median is the average of the two middle values. Unlike the mean, the median is not sensitive to outliers.\n",
        "\n",
        "When to use:\n",
        "\n",
        "Use the median when the data is skewed or contains outliers.\n",
        "Example: Median income of a population, where extreme wealth can skew the mean.\n",
        "When not to use:\n",
        "\n",
        "When data is symmetrical and does not have outliers, the mean may be more representative.\n",
        "3. Mode\n",
        "\n",
        "The mode is the value that appears most frequently in a dataset.\n",
        "\n",
        "A dataset can have more than one mode if multiple values appear with the same frequency, or it may have no mode if no number repeats.\n",
        "\n",
        "When to use:\n",
        "\n",
        "Use the mode with categorical or discrete data where you are interested in the most frequent category.\n",
        "Example: In a survey about favorite ice cream flavors, the mode would indicate the most popular flavor.\n",
        "When not to use:\n",
        "\n",
        "When analyzing numerical data that is continuous and doesn’t have a clear most frequent value, the mean or median is more appropriate."
      ],
      "metadata": {
        "id": "W5YW-fEbXjMc"
      }
    },
    {
      "cell_type": "code",
      "execution_count": 1,
      "metadata": {
        "colab": {
          "base_uri": "https://localhost:8080/"
        },
        "id": "3OtYjuTILBHs",
        "outputId": "2086b5de-0949-4f31-d925-9617f5d01ba0"
      },
      "outputs": [
        {
          "output_type": "stream",
          "name": "stdout",
          "text": [
            "The Mean is: 59.09090909090909\n",
            "The median is: 60.0\n",
            "The mode is: ModeResult(mode=np.int64(100), count=np.int64(2))\n"
          ]
        }
      ],
      "source": [
        "#Example :::\n",
        "\n",
        "import numpy as np\n",
        "from scipy import stats\n",
        "\n",
        "# Sample dataset\n",
        "data = [10, 20, 30, 40, 50, 60, 70, 80, 90, 100, 100]\n",
        "\n",
        "# Calculate mean\n",
        "mean = np.mean(data)\n",
        "\n",
        "# Calculate median\n",
        "median = np.median(data)\n",
        "\n",
        "# Calculate mode\n",
        "mode = stats.mode(data)\n",
        "\n",
        "print(\"The Mean is:\",mean)\n",
        "print(\"The median is:\",median)\n",
        "print(\"The mode is:\",mode)\n",
        "\n",
        "# output :\n",
        "# The Mean is: 59.09090909090909\n",
        "# The median is: 60.0\n",
        "# The mode is: ModeResult(mode=np.int64(100), count=np.int64(2))"
      ]
    },
    {
      "cell_type": "markdown",
      "source": [
        "Q.3 Explain the concept of dispersion. How do variance and standard deviation measure the spread of data?\n",
        "\n",
        "Dispersion in statistics refers to the degree to which data points in a set are spread out or scattered around the central tendency (mean), essentially indicating how much variation exists within a dataset.\n",
        "\n",
        "while variance and standard deviation are key measures of dispersion, calculating the average squared distance of each data point from the mean, with standard deviation being the square root of variance, allowing for a more interpretable measure of spread in the original data units.\n",
        "\n",
        "Variance :\n",
        "It shows the average of the squared differences between each data point and the mean.\n",
        "A high variance means the data is more spread out, while a low variance means the data is closer to the mean.\n",
        "\n",
        "Standard Deviation :\n",
        "It’s the square root of the variance, giving a measure of spread in the same units as the data.\n",
        "A small standard deviation means the data is clustered around the mean, while a large one shows more spread.\n"
      ],
      "metadata": {
        "id": "0oYTNdUsZKiT"
      }
    },
    {
      "cell_type": "code",
      "source": [
        "import numpy as np\n",
        "\n",
        "# Sample dataset\n",
        "data = [10, 20, 30, 40, 50]\n",
        "\n",
        "# Calculate variance\n",
        "variance = np.var(data)\n",
        "\n",
        "# Calculate standard deviation\n",
        "std_dev = np.std(data)\n",
        "\n",
        "print(\"Variance:\", variance)\n",
        "print(\"Standard Deviation:\",std_dev)\n",
        "\n",
        "# Output :\n",
        "# Variance: 200.0\n",
        "# Standard Deviation: 14.142135623730951\n"
      ],
      "metadata": {
        "colab": {
          "base_uri": "https://localhost:8080/"
        },
        "id": "7g9hf13xZUWJ",
        "outputId": "4492d9d7-66b8-43ea-c4fc-6aa94f386f42"
      },
      "execution_count": 2,
      "outputs": [
        {
          "output_type": "stream",
          "name": "stdout",
          "text": [
            "Variance: 200.0\n",
            "Standard Deviation: 14.142135623730951\n"
          ]
        }
      ]
    },
    {
      "cell_type": "markdown",
      "source": [
        "Q.4 What is a box plot, and what can it tell you about the distribution of data?\n",
        "\n",
        "A box plot (or box-and-whisker plot) is a visual representation of the distribution of a dataset. It summarizes key features of the data, such as the median, quartiles, and potential outliers, and shows the spread of the data.\n",
        "\n",
        "Box:\n",
        "\n",
        "The box represents the interquartile range (IQR), which contains the middle 50% of the data.\n",
        "The bottom of the box is the first quartile (Q1), the value below which 25% of the data lies.\n",
        "The top of the box is the third quartile (Q3), the value below which 75% of the data lies.\n",
        "The line inside the box is the median (the middle value of the dataset).\n",
        "\n",
        "Whiskers:\n",
        "\n",
        "The whiskers extend from the box to the smallest and largest values within 1.5 times the IQR from Q1 and Q3, respectively.\n",
        "They show the range of the data, excluding outliers.\n",
        "\n",
        "Outliers:\n",
        "\n",
        "Points outside the whiskers are considered outliers and are plotted as individual points.\n",
        "\n",
        "What a Box Plot Can Tell You:\n",
        "\n",
        "Median: The line inside the box shows the central value of the dataset.\n",
        "Spread of Data: The length of the box shows the spread of the middle 50% of the data (IQR). A longer box means the data is more spread out.\n",
        "\n",
        "Skewness:If the median is closer to the bottom or top of the box, the data is skewed.\n",
        "Longer whiskers on one side indicate skewness in that direction.\n",
        "Outliers: Individual points outside the whiskers represent unusually high or low values, which might need further investigation.\n",
        "\n",
        "Range: The overall range of the dataset can be seen from the minimum and maximum whiskers (ignoring outliers).\n",
        "\n",
        "Example of Interpretation:\n",
        "\n",
        "If the median is close to the center of the box, the distribution is roughly symmetric.\n",
        "If one whisker is much longer than the other, the data is skewed in that direction.\n",
        "Outliers outside the whiskers suggest extreme values that differ significantly from the rest of the data.\n"
      ],
      "metadata": {
        "id": "XAiuRjkgZkwt"
      }
    },
    {
      "cell_type": "code",
      "source": [
        "# Example :\n",
        "import matplotlib.pyplot as plt\n",
        "import numpy as np\n",
        "\n",
        "# Sample dataset of exam scores\n",
        "data = [60, 70, 80, 90, 100, 110, 120, 130, 140, 150, 160, 170, 180]\n",
        "\n",
        "# Creating the box plot\n",
        "plt.boxplot(data)\n",
        "\n",
        "plt.title('Box Plot of Exam Scores')\n",
        "plt.ylabel('Scores')\n",
        "plt.show()\n"
      ],
      "metadata": {
        "colab": {
          "base_uri": "https://localhost:8080/",
          "height": 452
        },
        "id": "gwX-LgiOZxZT",
        "outputId": "a4195b42-6fae-40c2-eea3-9ac8e4f69dee"
      },
      "execution_count": 3,
      "outputs": [
        {
          "output_type": "display_data",
          "data": {
            "text/plain": [
              "<Figure size 640x480 with 1 Axes>"
            ],
            "image/png": "[encoded data removed]"
          },
          "metadata": {}
        }
      ]
    },
    {
      "cell_type": "markdown",
      "source": [
        "Q.5 Discuss the role of random sampling in making inferences about populations.\n",
        "\n",
        "Random sampling is a crucial method used in statistics to make inferences about populations based on a subset of data.\n",
        "\n",
        "Representation:\n",
        "\n",
        "Random sampling ensures that every individual in the population has an equal chance of being selected.\n",
        "\n",
        "This helps create a sample that accurately represents the larger population, reducing bias.\n",
        "\n",
        "Generalization:\n",
        "\n",
        "By studying a representative sample, researchers can generalize findings to the entire population.\n",
        "\n",
        "This allows for conclusions about the population without needing to collect data from every individual.\n",
        "\n",
        "Reduced Bias:\n",
        "\n",
        "Random sampling minimizes the risk of bias that can occur if certain individuals are favored in the selection process.\n",
        "This leads to more reliable and valid results.\n",
        "\n",
        "Statistical Validity:\n",
        "\n",
        "Many statistical techniques rely on the assumption of random sampling.\n",
        "\n",
        "It allows researchers to use probability theory to make inferences about the population, such as estimating parameters (like means or proportions) and calculating confidence intervals.\n",
        "\n",
        "Inferences and Decision-Making:\n",
        "\n",
        "Random samples provide the basis for hypothesis testing and decision-making.\n",
        "\n",
        "They help determine whether observed effects in the sample can be attributed to chance or reflect true differences in the population.\n",
        "\n"
      ],
      "metadata": {
        "id": "kibQMmPqaB97"
      }
    },
    {
      "cell_type": "markdown",
      "source": [
        "Q.6 Explain the concept of skewness and its types. How does skewness affect the interpretation of data ?\n",
        "\n",
        "Skewness is a statistical measure that describes the asymmetry of the distribution of data points in a dataset.\n",
        "\n",
        "It indicates whether the data leans towards the left or right of the mean, affecting how we interpret the data.\n",
        "\n",
        "Types of Skewness:\n",
        "\n",
        "Positive Skewness (Right Skewness):\n",
        "In a positively skewed distribution, the tail on the right side (higher values) is longer or fatter than the left side.\n",
        "\n",
        "Characteristics:Mean > Median > Mode.\n",
        "\n",
        "More data points are concentrated on the left side, with a few extreme values pulling the mean to the right.\n",
        "\n",
        "Negative Skewness (Left Skewness):\n",
        "In a negatively skewed distribution, the tail on the left side (lower values) is longer or fatter than the right side.\n",
        "\n",
        "Characteristics:Mean < Median < Mode.\n",
        "More data points are concentrated on the right side, with a few extreme values pulling the mean to the left.\n",
        "\n",
        "Zero Skewness (Symmetric Distribution):\n",
        "A distribution is symmetric if it has no skewness. The left and right sides of the distribution are mirror images of each other.\n",
        "\n",
        "Characteristics:Mean = Median = Mode.\n",
        "\n",
        "\n",
        "How Skewness Affects Data Interpretation:\n",
        "\n",
        "Skewness affects data interpretation in several key ways:\n",
        "\n",
        "Mean, Median, and Mode Relationship:\n",
        "\n",
        "In a skewed distribution, the mean, median, and mode are not equal. For example:\n",
        "\n",
        "Positive Skew: Mean > Median > Mode (indicates high outliers).\n",
        "\n",
        "Negative Skew: Mean < Median < Mode (indicates low outliers).\n",
        "\n",
        "Choice of Measures of Central Tendency:\n",
        "\n",
        "The mean can be misleading in skewed distributions. The median is often preferred because it is less influenced by extreme values.\n",
        "Statistical Analysis:\n",
        "\n",
        "Many statistical tests assume normality (zero skewness). Skewed data can violate these assumptions, leading to incorrect conclusions.\n",
        "Data Visualization:\n",
        "\n",
        "Understanding skewness helps in selecting appropriate visualizations (like histograms or box plots) to effectively convey the distribution's shape and characteristics."
      ],
      "metadata": {
        "id": "b6Xpe0BuaZzF"
      }
    },
    {
      "cell_type": "markdown",
      "source": [
        "Q.7 What is the interquartile range (IQR), and how is it used to detect outliers?\n",
        "\n",
        "The interquartile range (IQR) is a measure of statistical dispersion, representing the spread of the middle 50% of a dataset.\n",
        "\n",
        "It is calculated by subtracting the first quartile (Q1) from the third quartile (Q3):\n",
        "\n",
        "IQR=Q3−Q1\n",
        "\n",
        "How to Calculate the IQR:\n",
        "\n",
        "Q1 (First Quartile): The median of the lower half of the dataset (25th percentile).\n",
        "\n",
        "Q3 (Third Quartile): The median of the upper half of the dataset (75th percentile).\n",
        "\n",
        "IQR: The difference between Q3 and Q1.\n",
        "\n",
        "Use in Detecting Outliers:\n",
        "\n",
        "Outliers are typically values that fall far outside the normal range of the data. To detect them using the IQR:\n",
        "\n",
        "Calculate the lower bound: Lower Bound = Q1−1.5×IQR\n",
        "\n",
        "Calculate the upper bound: Upper Bound = Q3+1.5×IQR\n",
        "\n",
        "Any data points that fall below the lower bound or above the upper bound are considered outliers.\n"
      ],
      "metadata": {
        "id": "AMFcsEUwa85E"
      }
    },
    {
      "cell_type": "markdown",
      "source": [
        "Q.8 Discuss the conditions under which the binomial distribution is used.\n",
        "\n",
        "The binomial distribution is a discrete probability distribution that describes the number of successes in a fixed number of independent trials, each with the same probability of success.\n",
        "\n",
        "It is commonly used in situations where there are two possible outcomes, often referred to as \"success\" and \"failure.\"\n",
        "\n",
        "Conditions for Using the Binomial Distribution:\n",
        "\n",
        "Fixed Number of Trials (n):\n",
        "\n",
        "The number of trials or experiments, denoted by n, must be predetermined and fixed. Each trial is a separate and independent experiment.\n",
        "Two Possible Outcomes (Success or Failure):\n",
        "\n",
        "Each trial must result in one of two mutually exclusive outcomes. These outcomes are typically labeled \"success\" and \"failure.\"\n",
        "Examples: flipping a coin (heads or tails), passing a test (pass or fail), etc.\n",
        "Constant Probability of Success (p):\n",
        "\n",
        "The probability of success, denoted by p, must remain the same for each trial. Similarly, the probability of failure is 1−p.\n",
        "Independent Trials:\n",
        "\n",
        "Each trial must be independent, meaning the outcome of one trial does not affect the outcome of any other trial. The events are not related to each other.\n",
        "Applications of Binomial Distribution:\n",
        "\n",
        "Quality control testing (ex - defect detection in manufactured products)\n",
        "Survey analysis (ex - counting the number of people who favor a candidate)\n",
        "Genetics (ex - probability of inheriting a trait)\n",
        "\n"
      ],
      "metadata": {
        "id": "j3-ardOdbLXz"
      }
    },
    {
      "cell_type": "markdown",
      "source": [
        "Q.9 Explain the properties of the normal distribution and the empirical rule (68-95-99.7 rule).\n",
        "\n",
        "The normal distribution (also known as the Gaussian distribution) is one of the most important probability distributions in statistics due to its widespread application in real-world scenarios. It is a continuous probability distribution characterized by a symmetric, bell-shaped curve.\n",
        "\n",
        "Key Properties of the Normal Distribution:\n",
        "\n",
        "Symmetry:\n",
        "\n",
        "The normal distribution is symmetric about the mean (𝜇), meaning that the left and right sides of the curve are mirror images of each other.\n",
        "This implies that the mean, median, and mode are all equal and located at the center of the distribution.\n",
        "Bell-Shaped Curve:\n",
        "\n",
        "The curve of the distribution is bell-shaped, with the highest point at the mean. As you move away from the mean, the frequency of values decreases.\n",
        "Mean and Standard Deviation:\n",
        "\n",
        "The mean (μ) determines the center of the distribution.\n",
        "The standard deviation (σ) controls the spread or width of the distribution. A larger standard deviation results in a wider and flatter curve, while a smaller standard deviation results in a narrower and taller curve.\n",
        "Total Area Under the Curve:\n",
        "\n",
        "The total area under the curve of a normal distribution is equal to 1, representing the total probability (100%).\n",
        "Explanation of the empirical rule (68-95-99.7 rule):\n",
        "\n",
        "Within 1 standard deviation (68%):\n",
        "\n",
        "Approximately 68% of data points in a normal distribution will fall within one standard deviation above or below the mean.\n",
        "Within 2 standard deviations (95%):\n",
        "\n",
        "Around 95% of data points will lie within two standard deviations from the mean.\n",
        "Within 3 standard deviations (99.7%):\n",
        "\n",
        "Nearly all (99.7%) data points will be situated within three standard deviations of the mean.\n",
        "Important considerations:\n",
        "\n",
        "Not all data is normally distributed:\n",
        "\n",
        "The empirical rule only applies to data that follows a normal distribution.\n",
        "Outliers:\n",
        "\n",
        "If data significantly deviates from the normal distribution, points falling outside the 3 standard deviation range could be considered outliers\n"
      ],
      "metadata": {
        "id": "oAZXheEvbWmr"
      }
    },
    {
      "cell_type": "markdown",
      "source": [
        "Q.10 Provide a real-life example of a Poisson process and calculate the probability for a specific event.\n",
        "\n",
        "Real-Life Example of a Poisson Process:\n",
        "\n",
        "A bookstore receives an average of 4 customer visits per hour. The number of customers visiting the store follows a Poisson distribution since visits are independent, random events, and the rate is constant.\n",
        "\n",
        "Let’s calculate the probability that exactly 6 customers will visit the bookstore in the next hour.\n",
        "\n",
        "Given Information: Average rate of customer visits per hour (λ) = 4 We want the probability of exactly 6 customer visits in one hour (k=6).\n"
      ],
      "metadata": {
        "id": "xbFno4B1bm0G"
      }
    },
    {
      "cell_type": "code",
      "source": [
        "import math\n",
        "# Given values for the bookstore example\n",
        "lambda_val = 4  # Average rate of customer visits per hour\n",
        "k_store = 6  # Number of customer visits we are calculating the probability for\n",
        "\n",
        "# Poisson probability formula for the bookstore example\n",
        "poisson_prob = (lambda_val**k_store * math.exp(-lambda_val)) / math.factorial(k_store)\n",
        "print(poisson_prob)\n",
        "\n",
        "# Output : 0.1041956345670211\n",
        "\n",
        "# The probability that exactly 6 customers will visit the bookstore in the next hour is approximately 0.1042 (or about 10.42%).\n",
        "# This means there's around a 10.42% chance of having exactly 6 customer visits in an hour, given an average of 4 customer visits per hour.\n"
      ],
      "metadata": {
        "colab": {
          "base_uri": "https://localhost:8080/"
        },
        "id": "CxvSsncvbfwZ",
        "outputId": "f0907304-4701-4e7a-b561-aa98dcb1508b"
      },
      "execution_count": 4,
      "outputs": [
        {
          "output_type": "stream",
          "name": "stdout",
          "text": [
            "0.1041956345670211\n"
          ]
        }
      ]
    },
    {
      "cell_type": "markdown",
      "source": [
        "Q.11 Explain what a random variable is and differentiate between discrete and continuous random variables.\n",
        "\n",
        "A random variable is a numerical value that represents the outcome of a random process or experiment.\n",
        "\n",
        "It assigns numbers to each possible outcome of a random event, making it easier to analyze and model uncertainty mathematically.\n",
        "\n",
        "1. Discrete Random Variable:\n",
        "\n",
        "A discrete random variable takes on countable values, meaning it can only assume a specific set of possible outcomes, often whole numbers.\n",
        "Examples:\n",
        "Number of heads when flipping a coin multiple times.\n",
        "Number of customers arriving at a store in a day.\n",
        "Number of defective items in a batch of products.\n",
        "The probability of each outcome can be listed, and the sum of all probabilities equals 1.\n",
        "2. Continuous Random Variable:\n",
        "\n",
        "A continuous random variable takes on uncountable values, meaning it can assume any value within a certain range or interval. The range of possible values is typically infinite, even if restricted to a finite interval.\n",
        "Examples:\n",
        "The height of people in a population.\n",
        "The time taken to complete a task.\n",
        "The temperature on a particular day.\n",
        "Instead of assigning probabilities to individual outcomes, probabilities are assigned to intervals or ranges of values using a probability density function (PDF). The total area under the curve of the PDF equals 1.\n"
      ],
      "metadata": {
        "id": "EUWY4BwZaPAo"
      }
    },
    {
      "cell_type": "markdown",
      "source": [
        "Q.12 Provide an example dataset, calculate both covariance and correlation, and interpret the results.\n"
      ],
      "metadata": {
        "id": "U4Mbdalvbx0C"
      }
    },
    {
      "cell_type": "code",
      "source": [
        "import numpy as np\n",
        "\n",
        "# Example dataset: Experience (X) and Salary (Y)\n",
        "\n",
        "x = np.array([1, 3, 5, 7, 9])  # Years of experience\n",
        "y = np.array([45, 55, 60, 70, 85])  # Salaries in thousand dollars\n",
        "\n",
        "# Calculate Covariance\n",
        "\n",
        "cov_matrix = np.cov(x, y)  # This gives the covariance matrix\n",
        "cov = cov_matrix[0, 1]  # Covariance between X and Y\n",
        "\n",
        "# Calculate Correlation\n",
        "corr = np.corrcoef(x, y)[0, 1]  # Correlation between X and Y\n",
        "\n",
        "# Print the results\n",
        "print(\"Covariance is:\",cov) # Output : 47.5\n",
        "print(\"Correlation:\",corr)  # output : 0.985104109993904\n",
        "\n",
        "'''\n",
        "Interpretation:\n",
        "Covariance shows that as experience increases, salary tends to increase as well.\n",
        "Correlation of 0.9887 indicates that this relationship is not only positive but also very strong and almost linear.\n",
        "'''\n"
      ],
      "metadata": {
        "colab": {
          "base_uri": "https://localhost:8080/",
          "height": 88
        },
        "id": "zwBYPhaUb6lu",
        "outputId": "288fa6e7-721a-4f6c-bdb8-e2abb1884175"
      },
      "execution_count": 6,
      "outputs": [
        {
          "output_type": "stream",
          "name": "stdout",
          "text": [
            "Covariance is: 47.5\n",
            "Correlation: 0.985104109993904\n"
          ]
        },
        {
          "output_type": "execute_result",
          "data": {
            "text/plain": [
              "'\\nInterpretation:\\nCovariance shows that as experience increases, salary tends to increase as well.\\nCorrelation of 0.9887 indicates that this relationship is not only positive but also very strong and almost linear. \\n'"
            ],
            "application/vnd.google.colaboratory.intrinsic+json": {
              "type": "string"
            }
          },
          "metadata": {},
          "execution_count": 6
        }
      ]
    }
  ]
}