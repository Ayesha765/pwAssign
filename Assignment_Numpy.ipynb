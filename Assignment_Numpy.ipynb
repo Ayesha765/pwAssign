{
  "nbformat": 4,
  "nbformat_minor": 0,
  "metadata": {
    "colab": {
      "provenance": [],
      "authorship_tag": "ABX9TyO9lFXTKWu+72YOO1vA/wz8",
      "include_colab_link": true
    },
    "kernelspec": {
      "name": "python3",
      "display_name": "Python 3"
    },
    "language_info": {
      "name": "python"
    }
  },
  "cells": [
    {
      "cell_type": "markdown",
      "metadata": {
        "id": "view-in-github",
        "colab_type": "text"
      },
      "source": [
        "<a href=\"https://colab.research.google.com/github/Ayesha765/pwAssign/blob/main/Assignment_Numpy.ipynb\" target=\"_parent\"><img src=\"https://colab.research.google.com/assets/colab-badge.svg\" alt=\"Open In Colab\"/></a>"
      ]
    },
    {
      "cell_type": "markdown",
      "source": [
        "# **THEORETICAL QUESTIONS**\n"
      ],
      "metadata": {
        "id": "fXDHG_UcIIbu"
      }
    },
    {
      "cell_type": "markdown",
      "source": [
        "Q.1 Explain the purpose and advantages of NumPy in scientific computing and data analysis. How does it enhance Python's capabilities for numerical operations?\n",
        "\n",
        "ANS) NumPy is a powerful library in Python designed for efficient numerical operations, particularly in scientific computing and data analysis. Its primary purpose is to provide support for handling large datasets and performing mathematical computations with arrays and matrices, offering functionality that enhances Python's native capabilities.\n",
        "\n",
        "Purpose of NumPy:\n",
        "1. Array Handling: Provides the ndarray, a fast and flexible multi-dimensional\n",
        "array object for storing data.\n",
        "2. Mathematical Operations: Supplies a wide array of mathematical functions (e.g., linear algebra, statistical operations, Fourier transforms) that operate on arrays and matrices.\n",
        "3. Data Manipulation: Enables easy reshaping, slicing, and broadcasting of arrays, allowing complex manipulations with concise syntax.\n",
        "4. Interfacing: Acts as a foundation for other libraries like SciPy and pandas, providing a common data structure for scientific computing.\n",
        "\n",
        "Advantages of NumPy:\n",
        "1. Speed: NumPy arrays are implemented in C, making operations on them significantly faster compared to Python lists, especially for large datasets.\n",
        "2. NumPy arrays require less memory than Python lists by storing data in a compact, contiguous block of memory.\n",
        "3. Vectorization: Enables operations to be applied element-wise to entire arrays without the need for explicit loops, improving both readability and performance.\n",
        "4. Broad Functionality: Offers a rich ecosystem for numerical computation, including tools for random number generation, matrix operations, and mathematical modeling.\n",
        "5. Interoperability: Can easily interface with data from other languages (e.g., C, C++, and Fortran) and supports efficient integration with other Python libraries.\n",
        "\n",
        "NumPy's capabilities significantly enhance Python's capabilities for numerical operations by:\n",
        "1. Providing efficient data structures for handling large numerical datasets\n",
        "2. Offering a comprehensive set of functions for mathematical operations, linear algebra, and other numerical tasks\n",
        "3. Integrating seamlessly with other scientific Python libraries\n",
        "4. Improving memory efficiency and performance\n",
        "5. Supporting a wide range of applications\n",
        "6. Benefiting from a large and active community\n",
        "\n"
      ],
      "metadata": {
        "id": "94BxIku2LC7H"
      }
    },
    {
      "cell_type": "markdown",
      "source": [
        "Q.2 Compare and contrast np.mean() and np.average() functions in NumPy. When would you use one over the other?\n",
        "\n",
        "ANS) In NumPy, both np.mean() and np.average() are used to calculate the average of an array, but there are key differences between them in terms of functionality and use cases. Here’s a comparison and explanation of when to use one over the other -\n",
        "1. Basic Functionality -\n",
        "   * np.mean(): This function computes the arithmetic mean (or simple average) of the elements in an array.\n",
        "  * np.average(): By default, this function also computes the arithmetic mean, but it allows you to include weights, which means you can compute a weighted average.\n",
        "2.  Weights Parameter -\n",
        " *  np.mean(): Does not support weights. It calculates a simple average without considering any importance or weight of individual\n",
        "       elements.\n",
        "  * np.average(): Supports a weights parameter that allows you to assign different weights to elements, making it ideal for calculating weighted averages.\n",
        "3. Return Value -\n",
        "      * np.mean(): Returns a single scalar value representing the arithmetic mean of all elements.\n",
        "      * np.average(): Also returns a scalar when computing the average. However, if you provide weights and specify returned=True, it will\n",
        "       return a tuple containing the average and the sum of the weights.\n",
        "4. Performance -\n",
        "      * np.mean(): Generally faster when you only need a simple average since it doesn’t involve the additional overhead of processing weights.\n",
        "      * np.average(): Slightly slower due to the flexibility it offers with weights, even if weights are not used.\n",
        "5. Use Cases -\n",
        "      Use np.mean() when:\n",
        "       * You want to compute a simple arithmetic mean of an array.\n",
        "       * You do not need to consider the importance or weight of individual elements.\n",
        "       * You are looking for a fast, straightforward average calculation.\n",
        "      Use np.average() when:\n",
        "       * You need to calculate a weighted average where some elements contribute more to the result than others.\n",
        "       * You want to retrieve both the average and the sum of the weights using the returned=True option"
      ],
      "metadata": {
        "id": "sRNZpN8jMLl3"
      }
    },
    {
      "cell_type": "code",
      "execution_count": null,
      "metadata": {
        "colab": {
          "base_uri": "https://localhost:8080/"
        },
        "id": "OBSUWrpvH4wr",
        "outputId": "5e55fdde-c9fb-4f83-cae2-293eac993071"
      },
      "outputs": [
        {
          "output_type": "stream",
          "name": "stdout",
          "text": [
            "Mean: 2.5\n",
            "avarage: 3.0\n"
          ]
        }
      ],
      "source": [
        "# example\n",
        "import numpy as np\n",
        "\n",
        "data = np.array([1, 2, 3, 4])\n",
        "\n",
        "# Unweighted mean\n",
        "mean = np.mean(data)\n",
        "print(\"Mean:\", mean)  # Output: 2.5\n",
        "\n",
        "data = [1, 2, 3, 4]\n",
        "weights = [1, 2, 3, 4]  # These weights mean '4' is more important\n",
        "avg = np.average(data, weights=weights)\n",
        "print(\"avarage:\",avg)"
      ]
    },
    {
      "cell_type": "markdown",
      "source": [
        "Q. 3 Describe the methods for reversing a NumPy array along different axes. Provide examples for 1D and 2D arrays.\n",
        "\n",
        "ANS) In NumPy, arrays can be reversed along different axes using several methods. Below are common techniques to reverse a NumPy array along different axes:\n",
        "\n",
        "1. Using Slicing : ([::-1])\n"
      ],
      "metadata": {
        "id": "x0YqkYmZN1uO"
      }
    },
    {
      "cell_type": "code",
      "source": [
        "# 1D Array : In a 1D array, you can reverse the entire array using slicing.\n",
        "\n",
        "import numpy as np\n",
        "arr = np.array([1, 2, 3, 4, 5])\n",
        "rev_arr = arr[::-1]\n",
        "print(rev_arr)  # Output: [5 4 3 2 1]\n",
        "\n",
        "print(\"================\")\n",
        "\n",
        "# 2D Array : For a 2D array, you can reverse it along a specific axis (rows or columns) by slicing the appropriate axis.\n",
        "\n",
        "# Reverse rows (axis 0):\n",
        "\n",
        "arr_2d = np.array([[1, 2, 3], [4, 5, 6], [7, 8, 9]])\n",
        "reversed_rows = arr_2d[::-1, :]\n",
        "print(reversed_rows)\n",
        "# Output:\n",
        "# [[7 8 9]\n",
        "#  [4 5 6]\n",
        "#  [1 2 3]]\n",
        "\n",
        "print(\"================\")\n",
        "# Reverse columns (axis 1):\n",
        "\n",
        "reversed_columns = arr_2d[:, ::-1]\n",
        "print(reversed_columns)\n",
        "# Output:\n",
        "# [[3 2 1]\n",
        "#  [6 5 4]\n",
        "#  [9 8 7]]\n"
      ],
      "metadata": {
        "colab": {
          "base_uri": "https://localhost:8080/"
        },
        "id": "rR0QmRZUN9z5",
        "outputId": "c69f4c81-5bc5-4dae-cdf6-48519004d6bc"
      },
      "execution_count": null,
      "outputs": [
        {
          "output_type": "stream",
          "name": "stdout",
          "text": [
            "[5 4 3 2 1]\n",
            "================\n",
            "[[7 8 9]\n",
            " [4 5 6]\n",
            " [1 2 3]]\n",
            "================\n",
            "[[3 2 1]\n",
            " [6 5 4]\n",
            " [9 8 7]]\n"
          ]
        }
      ]
    },
    {
      "cell_type": "markdown",
      "source": [
        "2. Using np.flip():\n",
        "\n",
        "np.flip() reverses an array along a specified axis. It is a more flexible method than slicing, allowing you to specify the axis explicitly.\n",
        "\n"
      ],
      "metadata": {
        "id": "0Pi6pl9pOPxw"
      }
    },
    {
      "cell_type": "code",
      "source": [
        "# 1D Array : By default, np.flip() flips the array along its only axis.\n",
        "\n",
        "flipped_arr_1d = np.flip(arr)\n",
        "print(flipped_arr_1d)  # Output: [5 4 3 2 1]\n",
        "\n",
        "print(\"==============\")\n",
        "\n",
        "# 2D Array : For 2D arrays, you can flip along different axes:\n",
        "\n",
        "# Flip along rows (axis 0):\n",
        "\n",
        "flipped_rows = np.flip(arr_2d, axis=0)\n",
        "print(flipped_rows)\n",
        "# Output:\n",
        "# [[7 8 9]\n",
        "#  [4 5 6]\n",
        "#  [1 2 3]]\n",
        "print(\"==============\")\n",
        "\n",
        "# Flip along columns (axis 1):\n",
        "flipped_columns = np.flip(arr_2d, axis=1)\n",
        "print(flipped_columns)\n",
        "\n",
        "# Output:\n",
        "# [[3 2 1]\n",
        "#  [6 5 4]\n",
        "#  [9 8 7]]\n"
      ],
      "metadata": {
        "colab": {
          "base_uri": "https://localhost:8080/"
        },
        "id": "uO8tJz8_OU8p",
        "outputId": "47f9c80a-5a3d-476c-91c6-25f3b44f03ac"
      },
      "execution_count": null,
      "outputs": [
        {
          "output_type": "stream",
          "name": "stdout",
          "text": [
            "[5 4 3 2 1]\n",
            "==============\n",
            "[[7 8 9]\n",
            " [4 5 6]\n",
            " [1 2 3]]\n",
            "==============\n",
            "[[3 2 1]\n",
            " [6 5 4]\n",
            " [9 8 7]]\n"
          ]
        }
      ]
    },
    {
      "cell_type": "markdown",
      "source": [
        "3. Using np.fliplr() and np.flipud()\n",
        "\n",
        "These functions are specific to 2D arrays and higher dimensions:\n",
        "\n",
        "np.fliplr(): Flips the array left to right (i.e., along columns).\n",
        "\n",
        "np.flipud(): Flips the array upside down (i.e., along rows).\n",
        "\n"
      ],
      "metadata": {
        "id": "fchublJAOkl9"
      }
    },
    {
      "cell_type": "code",
      "source": [
        "flip_lr = np.fliplr(arr_2d)\n",
        "\n",
        "flip_ud = np.flipud(arr_2d)\n",
        "\n",
        "\n",
        "\n",
        "flip_lr , flip_ud\n",
        "\n",
        "\n",
        "# Output: flip_lr\n",
        "# [[3 2 1]\n",
        "#  [6 5 4]\n",
        "#  [9 8 7]]\n",
        "\n",
        "# Output: flip_ud\n",
        "# [[7 8 9]\n",
        "#  [4 5 6]\n",
        "#  [1 2 3]]\n"
      ],
      "metadata": {
        "colab": {
          "base_uri": "https://localhost:8080/"
        },
        "id": "S0HhjQFlOukJ",
        "outputId": "bb527f29-8271-4ead-9f9c-b2ac324f8857"
      },
      "execution_count": null,
      "outputs": [
        {
          "output_type": "execute_result",
          "data": {
            "text/plain": [
              "(array([[3, 2, 1],\n",
              "        [6, 5, 4],\n",
              "        [9, 8, 7]]),\n",
              " array([[7, 8, 9],\n",
              "        [4, 5, 6],\n",
              "        [1, 2, 3]]))"
            ]
          },
          "metadata": {},
          "execution_count": 4
        }
      ]
    },
    {
      "cell_type": "markdown",
      "source": [
        "Q. 4 How can you determine the data type of elements in a NumPy array? Discuss the importance of data types in memory management and performance.\n",
        "\n",
        "ANS)Importance of Data Types in Memory Management and Performance\n",
        "\n",
        "    1. Memory Management:\n",
        "      * NumPy arrays are stored as contiguous blocks of memory, which makes accessing elements more efficient than lists. Each element in a NumPy array has a fixed size, determined by its data type.\n",
        "      * Using appropriate data types reduces memory consumption. For instance storing integers as int8 (8-bit integers) uses less memory than int64 (64-bit integers). Choosing the right data type for your data can significantly reduce the memory footprint of large arrays.\n",
        "\n",
        "    2. Performance:\n",
        "       * Data types affect computational performance. Smaller data types (e.g., float32, int16) can be processed faster than larger types(e.g., float64, int64) because they require less memory bandwidth and cache usage.\n",
        "       * NumPy operations are optimized to run efficiently on fixed-size data types, leveraging CPU vectorization (SIMD operations) for performance improvements.    \n",
        "\n",
        "    3. Precision:\n",
        "       * Data types also impact the precision of computations. For example, float32 offers less precision than float64. Depending on theRE requirements, you should select a data type that offers sufficient precision without wasting resources.   "
      ],
      "metadata": {
        "id": "JJLDkoBNPL8B"
      }
    },
    {
      "cell_type": "code",
      "source": [
        "#To determine the data type of elements in a NumPy array, we use the dtype attribute.\n",
        "#checking the data type of elements in a NumPy array\n",
        "arr = np.array([1, 2, 3, 4])\n",
        "print(arr.dtype)\n",
        "\n",
        "\n",
        "#In the next example arr_int8 Uses 1 byte per element, arr_int64 Uses 8 bytes per element\n",
        "\n",
        "arr_int8 = np.array([1, 2, 3], dtype=np.int8)\n",
        "arr_int64 = np.array([1, 2, 3], dtype=np.int64)\n",
        "print(arr_int8.nbytes)\n",
        "print(arr_int64.nbytes)"
      ],
      "metadata": {
        "colab": {
          "base_uri": "https://localhost:8080/"
        },
        "id": "vZb-iPJJQDXV",
        "outputId": "097c5156-aa6b-415c-c2c9-9a8a27a17b6c"
      },
      "execution_count": null,
      "outputs": [
        {
          "output_type": "stream",
          "name": "stdout",
          "text": [
            "int64\n",
            "3\n",
            "24\n"
          ]
        }
      ]
    },
    {
      "cell_type": "markdown",
      "source": [
        "Q. 5 Define ndarrays in NumPy and explain their key features. How do they differ from standard Python lists?\n",
        "\n",
        "ANS)In NumPy, an ndarray (n-dimensional array) is a powerful data structure that holds elements of the same type in a grid-like structure. It can represent multi-dimensional arrays (like 1D, 2D, or even higher dimensions).\n",
        "\n"
      ],
      "metadata": {
        "id": "cx_bNF9LQQl2"
      }
    },
    {
      "cell_type": "code",
      "source": [
        "import numpy as np\n",
        "\n",
        "# 1D ndarray (array)\n",
        "arr_1d = np.array([1, 2, 3, 4])\n",
        "\n",
        "# 2D ndarray (matrix)\n",
        "arr_2d = np.array([[1, 2, 3], [4, 5, 6]])\n",
        "\n",
        "# printing the ndarray\n",
        "arr_1d , arr_2d\n"
      ],
      "metadata": {
        "colab": {
          "base_uri": "https://localhost:8080/"
        },
        "id": "0LRsHtNcQfwh",
        "outputId": "88ee9a18-4b93-4596-d5ca-ac9814aa09f0"
      },
      "execution_count": null,
      "outputs": [
        {
          "output_type": "execute_result",
          "data": {
            "text/plain": [
              "(array([1, 2, 3, 4]),\n",
              " array([[1, 2, 3],\n",
              "        [4, 5, 6]]))"
            ]
          },
          "metadata": {},
          "execution_count": 7
        }
      ]
    },
    {
      "cell_type": "markdown",
      "source": [
        "Key Features of ndarray :\n",
        "\n",
        "1. Homogeneity: All elements within an ndarray must be of the same data type (e.g., int, float, bool). This ensures efficient memory management and optimized operations.\n",
        "2. N-dimensional: ndarray can have multiple dimensions (1D, 2D, 3D, etc.), allowing you to represent complex data structures like matrices, tensors, etc.\n",
        " * 1D Array (Vector): np.array([1, 2, 3])\n",
        " * 2D Array (Matrix): np.array([[1, 2], [3, 4]])\n",
        " * 3D Array (Tensor): np.array([[[1, 2], [3, 4]], [[5, 6], [7, 8]]])\n",
        "3. Fixed Size: Once created, the size of an ndarray cannot be changed (though you can create a new one with a different size).\n",
        "4. Fast Operations: NumPy provides vectorized operations, meaning you can perform element-wise operations on arrays much faster than Python loops.\n",
        "5. Memory Efficient: NumPy arrays use less memory than Python lists because they store elements of the same type in a contiguous block of memory.\n",
        "6. Broadcasting: NumPy allows operations on arrays of different shapes, automatically adjusting the shapes when possible (broadcasting). This is very useful for mathematical operations.\n",
        "\n",
        "Differences from Standard Python Lists:\n",
        "1. Homogeneity: Unlike Python lists, which can contain elements of different data types, ndarrays require all elements to be of the same type.\n",
        "2. Performance: NumPy ndarrays are generally much faster than Python lists for numerical operations due to their optimized implementation and vectorized nature.\n",
        "3. Fixed Size: Python lists are dynamic and can be resized on the fly, while ndarrays have a fixed size.\n",
        "4. Memory Efficiency: ndarrays are typically more memory-efficient than Python lists, especially for large arrays.\n",
        "5. Specialized Operations: NumPy provides a rich set of functions and operations specifically designed for working with numerical arrays, which are not available for Python lists.\n"
      ],
      "metadata": {
        "id": "jlpNijprQutA"
      }
    },
    {
      "cell_type": "markdown",
      "source": [
        "Q. 6 Analyze the performance benefits of NumPy arrays over Python lists for large-scale numerical operations.\n",
        "\n",
        "ANS) The performance benefits of NumPy arrays over Python lists for large-scale numerical operations can be summarized as follows:\n",
        "1.  Memory Efficiency:\n",
        "   * NumPy Arrays - Store elements in a contiguous block of memory with a fixed data type, making memory usage more efficient.\n",
        "   * Python Lists - Store references to objects, causing higher memory overhead, especially for large datasets.\n",
        "2. Speed (Vectorized Operations):\n",
        "   *  NumPy Arrays - Support vectorized operations, meaning element-wise operations are performed in highly optimized C code, making them much faster.\n",
        "   *  Python Lists - Require explicit loops for element-wise operations, which are slower due to Python's interpreted nature.\n",
        "3. Broadcasting:\n",
        "   *  NumPy Arrays - Allow arithmetic operations between arrays of different shapes without the need for loops, thanks to broadcasting.\n",
        "   *  Python Lists - Do not support broadcasting, and manual handling (e.g., nested loops) is needed.\n",
        "4. Built-in Mathematical Functions:\n",
        "   * NumPy Arrays - Provide many optimized mathematical functions like sum(),mean(), and dot(), which are faster and more efficient.\n",
        "  * Python Lists - Use slower Python functions or require custom logic for numerical operations.\n",
        "5. Parallelization and Optimized CPU Use:\n",
        "  *   NumPy Arrays - Take advantage of hardware-level optimizations such as SIMD (Single Instruction, Multiple Data), which further speeds up large-scale operations.\n",
        "  *   Python Lists - Do not leverage these optimizations, resulting in slower computations.\n"
      ],
      "metadata": {
        "id": "7pVD36bpRUQJ"
      }
    },
    {
      "cell_type": "code",
      "source": [
        "#Memory Efficiency\n",
        "import numpy as np\n",
        "import sys\n",
        "\n",
        "# Python list memory usage\n",
        "python_list = [1,2,3,4,5]\n",
        "print(\"Memory size of Python list:\", sys.getsizeof(python_list))\n",
        "\n",
        "# NumPy array memory usage\n",
        "numpy_array = np.array([1,2,3,4,5])\n",
        "print(\"Memory size of NumPy array:\", numpy_array.nbytes)\n",
        "\n",
        "\n",
        "\n",
        "#Speed and Vectorization\n",
        "#Element-wise addition\n",
        "\n",
        "import time\n",
        "\n",
        "# Using Python list\n",
        "python_list = list(range(2000000))\n",
        "start = time.time()\n",
        "python_result = (x * 2 for x in python_list)\n",
        "print(\"Python list time:\", time.time() - start)\n",
        "\n",
        "\n",
        "# Using NumPy array\n",
        "numpy_array = np.arange(2000000)\n",
        "start = time.time()\n",
        "numpy_result = (numpy_array * 2)\n",
        "print(\"Numpy array time:\", time.time() - start)\n",
        "\n"
      ],
      "metadata": {
        "colab": {
          "base_uri": "https://localhost:8080/"
        },
        "id": "lk-BOkNJR68Q",
        "outputId": "dedb9164-3f7c-4213-cb1b-0bb8c18bf22e"
      },
      "execution_count": null,
      "outputs": [
        {
          "output_type": "stream",
          "name": "stdout",
          "text": [
            "Memory size of Python list: 104\n",
            "Memory size of NumPy array: 40\n",
            "Python list time: 0.00025725364685058594\n",
            "Numpy array time: 0.010124444961547852\n"
          ]
        }
      ]
    },
    {
      "cell_type": "markdown",
      "source": [
        "Q.7 Compare vstack() and hstack() functions in NumPy. Provide examples demonstrating their usage and output.\n",
        "\n",
        "ANS) Comparison of vstack() and hstack() in Numpy :\n",
        "\n",
        "In NumPy, vstack() and hstack() are functions used to combine arrays along different axes:\n",
        "  * vstack(): Vertically stacks arrays (along the row axis). It stacks arrays one on top of the other.\n",
        "  * hstack(): Horizontally stacks arrays (along the column axis). It stacks arrays side-by-side.\n",
        "\n",
        "Usage :\n",
        "  * vstack(): Stacks the arrays vertically, turning the 1D arrays into a 2D array where each input array becomes a row.\n",
        "  * hstack(): Stacks the arrays horizontally, combining them into a single 1D array where elements from each input array are concatenated side by side.\n"
      ],
      "metadata": {
        "id": "_DqsyPldSH3o"
      }
    },
    {
      "cell_type": "code",
      "source": [
        "# example of both hstack() and vstack()\n",
        "\n",
        "# Creating two 2D array\n",
        "arr1 = np.array([[1, 2, 3], [4, 5, 6]])\n",
        "arr2 = np.array([[7, 8, 9], [10, 11, 12]])\n",
        "\n",
        "# Example of vsatck()\n",
        "result_vstack = np.vstack((arr1, arr2))\n",
        "print(\"VERTICAL STCK OF 2D ARRAYS :\\n\",result_vstack)\n",
        "\n",
        "\n",
        "result_hstack =np.hstack((arr1,arr2))\n",
        "print(\"\\n Horizontal stack of :\\n\",result_hstack)\n"
      ],
      "metadata": {
        "colab": {
          "base_uri": "https://localhost:8080/"
        },
        "id": "ZAUyXygDSjbF",
        "outputId": "0172ba37-9d50-407f-8f40-35f9b9d06549"
      },
      "execution_count": null,
      "outputs": [
        {
          "output_type": "stream",
          "name": "stdout",
          "text": [
            "VERTICAL STCK OF 2D ARRAYS :\n",
            " [[ 1  2  3]\n",
            " [ 4  5  6]\n",
            " [ 7  8  9]\n",
            " [10 11 12]]\n",
            "\n",
            " Horizontal stack of :\n",
            " [[ 1  2  3  7  8  9]\n",
            " [ 4  5  6 10 11 12]]\n"
          ]
        }
      ]
    },
    {
      "cell_type": "markdown",
      "source": [
        "Q. 8 Explain the differences between fliplr() and flipud() methods in NumPy, including their effects on various array dimensions.\n",
        "\n",
        "ANS) In NumPy, fliplr() and flipud() are two methods used to flip or reverse the order of elements in a 2D array (or higher-dimensional arrays). They are specifically designed to flip the array along different axes:\n",
        "1. fliplr() (Flip Left to Right) -\n",
        "       Function: Flips the array horizontally, reversing the order of columns (left to right).\n",
        "       Effect: It flips the array along the second axis (axis=1).\n",
        "       Applicable to: At least 2D arrays. For higher-dimensional arrays, it flips the elements in each 2D subarray along the second axis.\n",
        "2. flipud() (Flip Up to Down)\n",
        "       Function: Flips the array vertically, reversing the order of rows (up to down).\n",
        "       Effect: It flips the array along the first axis (axis=0).\n",
        "       Applicable to: At least 2D arrays. For higher-dimensional arrays, it flips the elements in each 2D subarray along the first axis.\n"
      ],
      "metadata": {
        "id": "XnKqSqUkSmqN"
      }
    },
    {
      "cell_type": "code",
      "source": [
        "# Example of fliplr() and flipud()\n",
        "\n",
        "import numpy as np\n",
        "\n",
        "# Creating a 2D array\n",
        "arr = np.array([[1, 2, 3, 4],\n",
        "                [5, 6, 7, 8]])\n",
        "\n",
        "# Using fliplr() - Flip array\n",
        "arr_fliplr = np.fliplr(arr)\n",
        "\n",
        "# Using flipud() - Flip array\n",
        "arr_flipud = np.flipud(arr)\n",
        "\n",
        "# Printing the results\n",
        "print(\"Original array:\")\n",
        "print(arr)\n",
        "#  Output:\n",
        "# Original array:\n",
        "# [[1 2 3 4]\n",
        "#  [5 6 7 8]]\n",
        "\n",
        "print(\"\\nArray after fliplr:\")\n",
        "print(arr_fliplr)\n",
        "# output :\n",
        "# Array after fliplr:\n",
        "# [[4 3 2 1]\n",
        "#  [8 7 6 5]]\n",
        "\n",
        "print(\"\\nArray after flipud:\")\n",
        "print(arr_flipud)\n",
        "#output :\n",
        "# Array after flipud:\n",
        "# [[5 6 7 8]\n",
        "#  [1 2 3 4]]"
      ],
      "metadata": {
        "colab": {
          "base_uri": "https://localhost:8080/"
        },
        "id": "wBoAwStqS6i-",
        "outputId": "39549f51-3047-4f91-d067-3190f696383a"
      },
      "execution_count": null,
      "outputs": [
        {
          "output_type": "stream",
          "name": "stdout",
          "text": [
            "Original array:\n",
            "[[1 2 3 4]\n",
            " [5 6 7 8]]\n",
            "\n",
            "Array after fliplr:\n",
            "[[4 3 2 1]\n",
            " [8 7 6 5]]\n",
            "\n",
            "Array after flipud:\n",
            "[[5 6 7 8]\n",
            " [1 2 3 4]]\n"
          ]
        }
      ]
    },
    {
      "cell_type": "markdown",
      "source": [
        "Q. 9 Discuss the functionality of the array_split() method in NumPy. How does it handle uneven splits?\n",
        "\n",
        "ANS)The array_split() method in NumPy is used to split an array into multiple sub-arrays. It is more flexible than the regular split() method because it can handle cases where the array cannot be evenly divided.\n",
        "\n",
        "  Functionality:\n",
        "    * The array_split() method divides an array into a specified number of equally or unequally sized sub-arrays.\n",
        "    * If the array can't be divided evenly, it allows uneven splits by distributing the leftover elements into the earlier sub-arrays.\n",
        "\n",
        "  Syntax:\n",
        "   numpy.array_split(array, sections)\n",
        "   where, array is the input array to be split and sections is the number of sub-arrays or a list of indices indicating where to split the array.\n",
        "    \n",
        "  How it Handles Uneven Splits -\n",
        "\n",
        "   When the array size is not evenly divisible by the number of sections specified, array_split() divides the array as evenly as possible,\n",
        "   giving larger sub-arrays at the start. If some leftover elements remain, the first few sub-arrays get one extra element each until all elements are distributed.\n",
        "\n",
        "  Splitting 2D Arrays: array_split() can also split multi-dimensional arrays along a specific axis.\n",
        "\n",
        "  Handling Uneven Splits in Multi-dimensional Arrays:\n",
        "   If the number of rows (or columns, depending on the axis) is not evenly divisible, array_split() will distribute the extra rows/columns into earlier sub-arrays.\n",
        "\n",
        "  Key Differences from split():\n",
        "   The split() function raises a ValueError if the array cannot be split evenly.\n",
        "   The array_split() method handles uneven splits gracefully by adjusting the sub-array sizes.\n"
      ],
      "metadata": {
        "id": "LMzAQbECTBWP"
      }
    },
    {
      "cell_type": "code",
      "source": [
        "#solitting 1 D array into 3 subarrays\n",
        "arr = np.array([1,2,3,4,5,6,7])\n",
        "result = np.array_split(arr, 3)\n",
        "print(\"Array split int 3 sunarrays:\\n\", result)\n",
        "\n",
        "# Splitting the array into 2 parts along the default axis (rows)\n",
        "result_2d = np.array_split(arr_2d, 2)\n",
        "print(\"2D Array Split into 2 sub-arrays:\\n\", result_2d)\n",
        "\n",
        "#splitting into 4 parts using array_split()\n",
        "arr = np.array([1,2,3,4,5,6,7])\n",
        "result_uneven = np.array_split(arr, 4)\n",
        "print(\"Uneven Split into 4 sub-arrays:\\n\", result_uneven)\n"
      ],
      "metadata": {
        "colab": {
          "base_uri": "https://localhost:8080/"
        },
        "id": "zyCnzRS4VsI8",
        "outputId": "b74ff55d-ccfd-41b3-d093-3beebb386ce2"
      },
      "execution_count": null,
      "outputs": [
        {
          "output_type": "stream",
          "name": "stdout",
          "text": [
            "Array split int 3 sunarrays:\n",
            " [array([1, 2, 3]), array([4, 5]), array([6, 7])]\n",
            "2D Array Split into 2 sub-arrays:\n",
            " [array([[1, 2, 3]]), array([[4, 5, 6]])]\n",
            "Uneven Split into 4 sub-arrays:\n",
            " [array([1, 2]), array([3, 4]), array([5, 6]), array([7])]\n"
          ]
        }
      ]
    },
    {
      "cell_type": "markdown",
      "source": [
        "Q.10 Explain the concepts of vectorization and broadcasting in NumPy. How do they contribute to efficient array operations?\n",
        "\n",
        "ANS) Vectorization and Broadcasting in NumPy are key concepts that contribute to efficient array operations, making computations faster and more concise. Here's an explanation of both:\n",
        "\n",
        "1. Vectorization:\n",
        "\n",
        "Definition: Vectorization refers to performing operations on entire arrays (or large chunks of them) without explicit loops. Instead of processing elements one by one, operations are applied to entire arrays at once.\n",
        "\n",
        "Efficiency: It leverages low-level optimizations and compiled code to perform these operations quickly, making them much faster than traditional Python loops.\n",
        "\n"
      ],
      "metadata": {
        "id": "aP7ifj-aV7Qt"
      }
    },
    {
      "cell_type": "code",
      "source": [
        "# Example : elements wise addition\n",
        "\n",
        "import numpy as np\n",
        "a = np.array([1, 2, 3])\n",
        "b = np.array([4, 5, 6])\n",
        "\n",
        "# Element-wise addition (vectorized)\n",
        "c = a + b\n",
        "# printing the value of \"c\"\n",
        "c  # Output: [5, 7, 9]\n"
      ],
      "metadata": {
        "colab": {
          "base_uri": "https://localhost:8080/"
        },
        "id": "I8uLd40_WFLF",
        "outputId": "4c11e7ad-7348-4a6f-fba0-eb06f13bf407"
      },
      "execution_count": null,
      "outputs": [
        {
          "output_type": "execute_result",
          "data": {
            "text/plain": [
              "array([5, 7, 9])"
            ]
          },
          "metadata": {},
          "execution_count": 13
        }
      ]
    },
    {
      "cell_type": "markdown",
      "source": [
        "2. Broadcasting :\n",
        "\n",
        "Definition: Broadcasting refers to how NumPy handles arrays with different shapes during arithmetic operations. It \"stretches\" the smaller array along one or more axes to match the shape of the larger array, without actually copying data.\n",
        "\n",
        "Efficiency: Broadcasting allows you to perform operations between arrays of different shapes without needing to manually replicate or resize them, reducing memory usage and improving performance.\n",
        "\n",
        "Rules: Broadcasting works when dimensions of arrays are compatible, either:\n",
        "\n",
        "The dimensions are equal.\n",
        "One of the dimensions is 1 (allowing expansion).\n"
      ],
      "metadata": {
        "id": "a8xUB_zlWLqO"
      }
    },
    {
      "cell_type": "code",
      "source": [
        "# Example: Adding a scalar to a 1D array:\n",
        "\n",
        "a = np.array([1, 2, 3])\n",
        "\n",
        "# Broadcasting the scalar 5 to each element in array 'a'\n",
        "b = a + 5\n",
        "print(\"The result is : \", b)  # Output: [6, 7, 8]\n",
        "\n",
        "\n",
        "# Adding a 1D array to a 2D array:\n",
        "\n",
        "x = np.array([[1, 2, 3],[4, 5, 6]])\n",
        "\n",
        "y = np.array([10, 20, 30])\n",
        "\n",
        "# Broadcasting y across each row of x\n",
        "z = x + y\n",
        "print(\"\\nThe result is : \\n\",z)\n",
        "# Output:\n",
        "# [[11 22 33]\n",
        "#  [14 25 36]]\n"
      ],
      "metadata": {
        "colab": {
          "base_uri": "https://localhost:8080/"
        },
        "id": "l_Juas_DWPGT",
        "outputId": "81e8aa9f-eab5-4133-ba11-569fcd15bdb1"
      },
      "execution_count": null,
      "outputs": [
        {
          "output_type": "stream",
          "name": "stdout",
          "text": [
            "The result is :  [6 7 8]\n",
            "\n",
            "The result is : \n",
            " [[11 22 33]\n",
            " [14 25 36]]\n"
          ]
        }
      ]
    },
    {
      "cell_type": "markdown",
      "source": [
        "Contributions to Efficient Array Operations:\n",
        "\n",
        "No explicit loops: Both vectorization and broadcasting eliminate the need for writing loops, which in Python can be slow. This results in more concise and readable code.\n",
        "\n",
        "Memory efficiency: Broadcasting performs operations without creating unnecessary copies of arrays, leading to lower memory consumption.\n",
        "Speed: Vectorized operations are optimized to use underlying C or Fortran libraries, making them significantly faster than element-wise Python loops."
      ],
      "metadata": {
        "id": "YNzotRLOWTv9"
      }
    },
    {
      "cell_type": "markdown",
      "source": [
        "# **PRACTICAL QUESTIONS**"
      ],
      "metadata": {
        "id": "J0rzkMnjWjsN"
      }
    },
    {
      "cell_type": "markdown",
      "source": [
        "Q.1 Create a 3x3 NumPy array with random integers between 1 and 100. Then, interchange its rows and columns.\n"
      ],
      "metadata": {
        "id": "Z0UU6mwSW3Bv"
      }
    },
    {
      "cell_type": "code",
      "source": [
        "# Ans\n",
        "\n",
        "import numpy as np\n",
        "# creating the array with random integers between 1 to 100\n",
        "arr1 = np.random.randint(1 , 100 , (3,3))\n",
        "print(\"The 3x3 array is:\\n\",arr1) # printing the array\n",
        "\n",
        "# Interchanging the its rows and columns (Transposd array)\n",
        "arr2 = arr1.T\n",
        "print(\"The Transposed array is :\\n\", arr2)\n"
      ],
      "metadata": {
        "colab": {
          "base_uri": "https://localhost:8080/"
        },
        "id": "Z-vtJABHWtMU",
        "outputId": "142306c0-af96-4965-e3c2-e68b836c3cb3"
      },
      "execution_count": null,
      "outputs": [
        {
          "output_type": "stream",
          "name": "stdout",
          "text": [
            "The 3x3 array is:\n",
            " [[93 90 32]\n",
            " [79 60 98]\n",
            " [ 1 50 71]]\n",
            "The Transposed array is :\n",
            " [[93 79  1]\n",
            " [90 60 50]\n",
            " [32 98 71]]\n"
          ]
        }
      ]
    },
    {
      "cell_type": "markdown",
      "source": [
        "Q.2 Generate a 1D NumPy array with 10 elements. Reshape it into a 2x5 array, then into a 5x2 array.\n"
      ],
      "metadata": {
        "id": "5E3VYnoWXZcM"
      }
    },
    {
      "cell_type": "code",
      "source": [
        "# Ans\n",
        "\n",
        "arr1 = np.arange(10)\n",
        "print(\"1D array:\\n\", arr1)\n",
        "\n",
        "arr1_2x5 = arr1.reshape(2, 5)\n",
        "print(\"\\n Reshaped to 2x5 Array:\\n\", arr1_2x5)\n",
        "\n",
        "arr1_5x2 = arr1.reshape(5, 2)\n",
        "print(\"\\n Reshaped to 5x2 Array:\\n\", arr1_5x2)"
      ],
      "metadata": {
        "id": "cHV2tcMzXczT"
      },
      "execution_count": null,
      "outputs": []
    },
    {
      "cell_type": "markdown",
      "source": [
        "Q. 3 Create a 4x4 NumPy array with random float values. Add a border of zeros around it, resulting in a 6x6 array.\n"
      ],
      "metadata": {
        "id": "8xhVT0JIXh2S"
      }
    },
    {
      "cell_type": "code",
      "source": [
        "# Ans :\n",
        "\n",
        "import numpy as np\n",
        "# Creating  a 4x4 array with random float values\n",
        "arr = np.random.rand(4,4)\n",
        "print(\"The 4x4 array with random float values: \\n\", arr)\n",
        "\n",
        "# adding a border of 0s around it and making a 6x6 array\n",
        "arr_6x6 = np.pad(arr, pad_width=1, mode='constant', constant_values=0)\n",
        "print(\"\\nThe 6x6 array with 0s as borderd is:\\n\", arr_6x6)\n"
      ],
      "metadata": {
        "colab": {
          "base_uri": "https://localhost:8080/"
        },
        "id": "8hi0nZfNXoP-",
        "outputId": "3c51fbb7-f71b-4626-8397-2373dd0de669"
      },
      "execution_count": null,
      "outputs": [
        {
          "output_type": "stream",
          "name": "stdout",
          "text": [
            "The 4x4 array with random float values: \n",
            " [[0.26749914 0.24204397 0.31216045 0.87997238]\n",
            " [0.23897328 0.54694454 0.80727559 0.27469063]\n",
            " [0.03665528 0.98544841 0.35069215 0.36378049]\n",
            " [0.744105   0.46585316 0.40983051 0.34158036]]\n",
            "\n",
            "The 6x6 array with 0s as borderd is:\n",
            " [[0.         0.         0.         0.         0.         0.        ]\n",
            " [0.         0.26749914 0.24204397 0.31216045 0.87997238 0.        ]\n",
            " [0.         0.23897328 0.54694454 0.80727559 0.27469063 0.        ]\n",
            " [0.         0.03665528 0.98544841 0.35069215 0.36378049 0.        ]\n",
            " [0.         0.744105   0.46585316 0.40983051 0.34158036 0.        ]\n",
            " [0.         0.         0.         0.         0.         0.        ]]\n"
          ]
        }
      ]
    },
    {
      "cell_type": "markdown",
      "source": [
        "Q.4 Using NumPy, create an array of integers from 10 to 60 with a step of 5.\n"
      ],
      "metadata": {
        "id": "7NERw3W8Xvfl"
      }
    },
    {
      "cell_type": "code",
      "source": [
        "# Ans\n",
        "\n",
        "int_array = np.arange(10, 61, 5)\n",
        "print(int_array)\n"
      ],
      "metadata": {
        "colab": {
          "base_uri": "https://localhost:8080/"
        },
        "id": "HUTjaoaiXy2u",
        "outputId": "14f08a0c-74c3-4ea8-c06a-6b4faa1e0f7d"
      },
      "execution_count": null,
      "outputs": [
        {
          "output_type": "stream",
          "name": "stdout",
          "text": [
            "[10 15 20 25 30 35 40 45 50 55 60]\n"
          ]
        }
      ]
    },
    {
      "cell_type": "markdown",
      "source": [
        "Q.5 Create a NumPy array of strings ['python', 'numpy', 'pandas']. Apply different case transformations (uppercase, lowercase, title case, etc.) to each element.\n"
      ],
      "metadata": {
        "id": "I_i2EeHmX6jQ"
      }
    },
    {
      "cell_type": "code",
      "source": [
        "#Ans\n",
        "\n",
        "str_array = np.array(['python', 'numpy', 'pandas'])\n",
        "print('Array of strings:', str_array)\n",
        "\n",
        "print('\\n Uppercase:', np.char.upper(str_array))\n",
        "print('\\n Lowercase:', np.char.lower(str_array))\n",
        "print('\\n Title case:', np.char.title(str_array))\n"
      ],
      "metadata": {
        "colab": {
          "base_uri": "https://localhost:8080/"
        },
        "id": "7YQB7LONX_tQ",
        "outputId": "d5419733-ee41-4931-cd12-89174df600a3"
      },
      "execution_count": null,
      "outputs": [
        {
          "output_type": "stream",
          "name": "stdout",
          "text": [
            "Array of strings: ['python' 'numpy' 'pandas']\n",
            "\n",
            " Uppercase: ['PYTHON' 'NUMPY' 'PANDAS']\n",
            "\n",
            " Lowercase: ['python' 'numpy' 'pandas']\n",
            "\n",
            " Title case: ['Python' 'Numpy' 'Pandas']\n"
          ]
        }
      ]
    },
    {
      "cell_type": "markdown",
      "source": [
        "Q.6 Generate a NumPy array of words. Insert a space between each character of every word in the array.\n"
      ],
      "metadata": {
        "id": "TkMY76txYJcv"
      }
    },
    {
      "cell_type": "code",
      "source": [
        "# Ans:\n",
        "import numpy as np\n",
        "\n",
        "# creating an array of some words\n",
        "arr_word = np.array([\"Ayesha\",\"Abdullah\", \"Delusional\", \"World\"])\n",
        "print(\"The original  array is:\", arr_word)\n",
        "\n",
        "# inserting a space between every character\n",
        "arr_space = np.char.join(\" \",arr_word)\n",
        "print(\"\\nArray with space:\\n\",arr_space)\n"
      ],
      "metadata": {
        "colab": {
          "base_uri": "https://localhost:8080/"
        },
        "id": "cOKeXvJtYNAT",
        "outputId": "84c39233-92e0-4f73-8742-7e7d670c1a63"
      },
      "execution_count": null,
      "outputs": [
        {
          "output_type": "stream",
          "name": "stdout",
          "text": [
            "The original  array is: ['Ayesha' 'Abdullah' 'Delusional' 'World']\n",
            "\n",
            "Array with space:\n",
            " ['A y e s h a' 'A b d u l l a h' 'D e l u s i o n a l' 'W o r l d']\n"
          ]
        }
      ]
    },
    {
      "cell_type": "markdown",
      "source": [
        "Q.7 Create two 2D NumPy arrays and perform element-wise addition, subtraction, multiplication, and division.\n"
      ],
      "metadata": {
        "id": "jyKm2V9ZYjXA"
      }
    },
    {
      "cell_type": "code",
      "source": [
        "# Ans :\n",
        "import numpy as np\n",
        "\n",
        "# creating two 3x3 numpy array with random value from 1-10\n",
        "arr1 = np.random.randint(1,10,(2,3))\n",
        "arr2 = np.random.randint(1,10,(2,3))\n",
        "\n",
        "# print the two array\n",
        "print(\"Array_1 is:\\n\",arr1)\n",
        "print(\"\\nArray_2 is:\\n\",arr2)\n",
        "\n",
        "# performing element wise operation\n",
        "print(\"\\n===Element wise operation===\")\n",
        "\n",
        "# Addition\n",
        "add = arr1 + arr2\n",
        "print(\"\\nAddition:\\n \", add)\n",
        "\n",
        "# subtraction\n",
        "sub = arr1 - arr2\n",
        "print(\"\\nSubtraction:\\n\", sub)\n",
        "\n",
        "#multiplication\n",
        "mult = arr1 * arr2\n",
        "print(\"\\nMultiplication:\\n\", mult)\n",
        "\n",
        "# division\n",
        "div = arr1 / arr2\n",
        "print(\"\\nDivision:\\n\",div)\n"
      ],
      "metadata": {
        "colab": {
          "base_uri": "https://localhost:8080/"
        },
        "id": "TKUDf5N8Yl4P",
        "outputId": "cde4d8e3-7966-4e98-d1dd-9db717307129"
      },
      "execution_count": null,
      "outputs": [
        {
          "output_type": "stream",
          "name": "stdout",
          "text": [
            "Array_1 is:\n",
            " [[9 5 5]\n",
            " [5 5 1]]\n",
            "\n",
            "Array_2 is:\n",
            " [[4 1 1]\n",
            " [6 7 2]]\n",
            "\n",
            "===Element wise operation===\n",
            "\n",
            "Addition:\n",
            "  [[13  6  6]\n",
            " [11 12  3]]\n",
            "\n",
            "Subtraction:\n",
            " [[ 5  4  4]\n",
            " [-1 -2 -1]]\n",
            "\n",
            "Multiplication:\n",
            " [[36  5  5]\n",
            " [30 35  2]]\n",
            "\n",
            "Division:\n",
            " [[2.25       5.         5.        ]\n",
            " [0.83333333 0.71428571 0.5       ]]\n"
          ]
        }
      ]
    },
    {
      "cell_type": "markdown",
      "source": [
        "Q.8 Use NumPy to create a 5x5 identity matrix, then extract its diagonal elements.\n"
      ],
      "metadata": {
        "id": "nF2vvCVtYyhx"
      }
    },
    {
      "cell_type": "code",
      "source": [
        "#Ans\n",
        "identity_matrix = np.eye(5)\n",
        "print('5x5 identity matrix:\\n', identity_matrix)\n",
        "\n",
        "diagonal_el = np.diag(identity_matrix)\n",
        "print('\\n Diagonal elements: \\n', diagonal_el)\n"
      ],
      "metadata": {
        "colab": {
          "base_uri": "https://localhost:8080/"
        },
        "id": "mxXOV33uY3Ke",
        "outputId": "1f5df607-d5b6-4970-f3ad-4c9624d2f0cc"
      },
      "execution_count": null,
      "outputs": [
        {
          "output_type": "stream",
          "name": "stdout",
          "text": [
            "5x5 identity matrix:\n",
            " [[1. 0. 0. 0. 0.]\n",
            " [0. 1. 0. 0. 0.]\n",
            " [0. 0. 1. 0. 0.]\n",
            " [0. 0. 0. 1. 0.]\n",
            " [0. 0. 0. 0. 1.]]\n",
            "\n",
            " Diagonal elements: \n",
            " [1. 1. 1. 1. 1.]\n"
          ]
        }
      ]
    },
    {
      "cell_type": "markdown",
      "source": [
        "Q.9 Generate a NumPy array of 100 random integers between 0 and 1000. Find and display all prime numbers in this array.\n"
      ],
      "metadata": {
        "id": "2pm2QOs1Y6k5"
      }
    },
    {
      "cell_type": "code",
      "source": [
        "#Ans\n",
        "random_int = np.random.randint(0, 1000, size = 100)\n",
        "print('Random integers between 0 to 1000: \\n', random_int)\n",
        "\n",
        "def is_prime(number):\n",
        "    if number < 2:\n",
        "        return False\n",
        "    for i in range(2, int(np.sqrt(number)) + 1):\n",
        "        if number % i == 0:\n",
        "            return False\n",
        "        return True\n",
        "prime_numbers = np.array([number for number in random_int if is_prime(number)])\n",
        "print('\\n Prime numbers in the array: \\n', prime_numbers)\n"
      ],
      "metadata": {
        "colab": {
          "base_uri": "https://localhost:8080/"
        },
        "id": "g4HqZQqtZAKe",
        "outputId": "8e19d446-49ec-4fb7-9acb-023a726569d0"
      },
      "execution_count": null,
      "outputs": [
        {
          "output_type": "stream",
          "name": "stdout",
          "text": [
            "Random integers between 0 to 1000: \n",
            " [365 543 704 504 918 226 251 131 776 277  24 196 189 880 107 975  89   7\n",
            " 244 270 934  49 877 743 917 184 521 806 163 690 209 136  26  46 131 726\n",
            " 129 556 224 276 805  65 497 488 996 680 691 283 835 325 370 917  29 914\n",
            " 458 475 163 323 341 325 574 916 119 979 627 531 462 327 397 107 375 195\n",
            " 383 470 440 636 872  79 100 868 689 233 814 986 546 451 534 805  86 765\n",
            " 764 115 701 419 886 929 627 222 412 570]\n",
            "\n",
            " Prime numbers in the array: \n",
            " [365 543 251 131 277 189 107 975  89   7  49 877 743 917 521 163 209 131\n",
            " 129 805  65 497 691 283 835 325 917  29 475 163 323 341 325 119 979 627\n",
            " 531 327 397 107 375 195 383  79 689 233 451 805 765 115 701 419 929 627]\n"
          ]
        }
      ]
    },
    {
      "cell_type": "markdown",
      "source": [
        "Q.10 Create a NumPy array representing daily temperatures for a month. Calculate and display the weekly averages\n"
      ],
      "metadata": {
        "id": "8hBKsh7nZH0u"
      }
    },
    {
      "cell_type": "code",
      "source": [
        "# Ans :\n",
        "import numpy as np\n",
        "\n",
        "# generating a numpy aray of daily temprature for a month (temp range - 25 to 50)\n",
        "\n",
        "daily_temp = np.random.randint(25, 55, size = 30)\n",
        "\n",
        "print(\"Daily temp:\\n\", daily_temp)\n",
        "\n",
        "#assuming 5 weeks of days each so reshaping the array\n",
        "weekly_temp = daily_temp.reshape(5,6)\n",
        "print(\"\\nWeekly temp:\\n\", weekly_temp)\n",
        "\n",
        "# calculating the  weekly averages\n",
        "\n",
        "week_temp_avg = np.mean(weekly_temp,axis=1)\n",
        "print(\"\\nWeekly temperature avg :\")\n",
        "# week_temp_avg\n",
        "for i in week_temp_avg:\n",
        "    print(\"week avg temp\",i ,\"`C\")\n"
      ],
      "metadata": {
        "colab": {
          "base_uri": "https://localhost:8080/"
        },
        "id": "ZnhY2WrWZHcB",
        "outputId": "1b8033aa-bc13-43fa-a294-1b6d6b690715"
      },
      "execution_count": null,
      "outputs": [
        {
          "output_type": "stream",
          "name": "stdout",
          "text": [
            "Daily temp:\n",
            " [25 52 37 52 26 50 51 49 31 46 45 43 36 28 50 29 32 48 42 37 28 30 27 38\n",
            " 35 35 26 39 52 51]\n",
            "\n",
            "Weekly temp:\n",
            " [[25 52 37 52 26 50]\n",
            " [51 49 31 46 45 43]\n",
            " [36 28 50 29 32 48]\n",
            " [42 37 28 30 27 38]\n",
            " [35 35 26 39 52 51]]\n",
            "\n",
            "Weekly temperature avg :\n",
            "week avg temp 40.333333333333336 `C\n",
            "week avg temp 44.166666666666664 `C\n",
            "week avg temp 37.166666666666664 `C\n",
            "week avg temp 33.666666666666664 `C\n",
            "week avg temp 39.666666666666664 `C\n"
          ]
        }
      ]
    }
  ]
}